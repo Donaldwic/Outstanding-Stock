{
  "nbformat": 4,
  "nbformat_minor": 0,
  "metadata": {
    "colab": {
      "provenance": [],
      "toc_visible": true,
      "authorship_tag": "ABX9TyOvl4yAj8l9AkcAXLJ7wZxO",
      "include_colab_link": true
    },
    "kernelspec": {
      "name": "python3",
      "display_name": "Python 3"
    },
    "language_info": {
      "name": "python"
    }
  },
  "cells": [
    {
      "cell_type": "markdown",
      "metadata": {
        "id": "view-in-github",
        "colab_type": "text"
      },
      "source": [
        "<a href=\"https://colab.research.google.com/github/Donaldwic/Outstanding-Stock/blob/main/Policy_Impact_Score_for_Stock_price_after_election.ipynb\" target=\"_parent\"><img src=\"https://colab.research.google.com/assets/colab-badge.svg\" alt=\"Open In Colab\"/></a>"
      ]
    },
    {
      "cell_type": "markdown",
      "source": [
        "# Policy Impact Score (PIS)\n",
        "The Policy Impact Score (PIS) is a quantitative metric designed to measure the sensitivity of a stock or sector's returns to government policy changes. By examining the statistical relationship between policy factors and stock returns, the PIS helps investors assess which assets may be most affected by regulatory, interest rate, and policy announcement changes. The PIS uses a multi-factor regression approach, isolating specific policy-related factors that drive returns in the market.\n",
        "\n",
        "Multi-Factor Regression Model for Policy Impact\n",
        "To calculate the Policy Impact Score, we define a regression model where returns are regressed on policy-related factors. Mathematically, this is expressed as:\n",
        "\n",
        "$$𝑅_𝑡=𝛼+𝛽_1𝐹_{1,𝑡}+𝛽_2𝐹_{2,𝑡}+𝛽_3𝐹_{3,𝑡}+𝜖_𝑡$$\n",
        "\n",
        "where:\n",
        "\n",
        "* $𝑅_t$​ : Return of a stock or sector at time $𝑡$\n",
        "\n",
        "* $𝛼$ : Intercept term, representing the baseline return unaffected by policy events.\n",
        "* $𝛽_1,𝛽_2,𝛽_3$ : Coefficients that measure sensitivity to policy factors.\n",
        "\n",
        "* $F_{1,t}​,F_{2,t}​,F_{3,t}$: Policy factors that can affect to stock price\n",
        "\n",
        "* $𝜖_𝑡$​ : Error term, representing random variations in returns not explained by policy factors.\n",
        "\n",
        "\n",
        "Each $β_i$​ coefficient provides insight into the stock’s or sector’s exposure to a specific type of policy. We estimate these coefficients through regression analysis on historical data, where policy factors are dummy variables or quantitative measures (e.g., using values of 0 or 1 depending on the presence of a policy event, or larger values if more significant events occur).\n",
        "\n",
        "Calculating the Policy Impact Score (PIS)\n",
        "The Policy Impact Score itself is constructed as a weighted sum of the absolute values of these sensitivity coefficients, denoting the aggregate impact of policy on returns:\n",
        "\n",
        "$$PIS=𝑤_1∣𝛽_1∣+𝑤_2∣𝛽_2∣+𝑤_3∣𝛽_3∣$$\n",
        "\n",
        "where:\n",
        "\n",
        "* $𝑤_1,𝑤_2,𝑤_3$ : Weights assigned to each policy factor, representing the relative importance or prevalence of each factor in the sector.\n",
        "\n",
        "* $∣𝛽_𝑖∣$ : Absolute value of each coefficient, representing the magnitude of impact without regard to direction.\n",
        "The weights $𝑤_𝑖$ are chosen based on either historical relevance or industry sensitivity to each policy type. By taking the absolute values of the $𝛽_𝑖$ terms, we focus on the intensity of the impact rather than its direction (positive or negative).\n",
        "\n",
        "Interpretation and Use of the PIS\n",
        "* High PIS: A higher PIS indicates that the stock or sector is highly sensitive to policy changes, suggesting a higher likelihood of significant returns (or risks) in response to new policies.\n",
        "* Low PIS: A lower PIS suggests reduced sensitivity, meaning the stock or sector is relatively insulated from policy fluctuations.\n",
        "Example Calculation\n",
        "Assume that for a particular stock, we estimate the following coefficients and assign these weights:\n",
        "\n",
        "$$𝛽_1=1.0,𝛽_2=−0.6,𝛽_3=1.5,𝑤_1=0.5,𝑤_2=0.2,𝑤_3=0.3$$\n",
        "\n",
        "The Policy Impact Score would be calculated as follows:\n",
        "\n",
        "$$PIS=0.5× ∣1.0∣+0.2× ∣−0.6∣+ 0.3×∣1.5∣=1.07$$\n",
        "\n",
        "This score of $1.07$ quantifies the stock’s overall sensitivity to policy events. Higher scores indicate greater exposure, allowing investors to assess risks and opportunities arising from policy-related market shifts.\n",
        "\n"
      ],
      "metadata": {
        "id": "9d1YzNeS4Dee"
      }
    },
    {
      "cell_type": "code",
      "execution_count": 190,
      "metadata": {
        "id": "GYBX8RmY4Bs6"
      },
      "outputs": [],
      "source": [
        "import numpy as np\n",
        "import pandas as pd\n",
        "import yfinance as yf\n",
        "import matplotlib.pyplot as plt"
      ]
    },
    {
      "cell_type": "markdown",
      "source": [
        "# Dictionary event about policies for each sector"
      ],
      "metadata": {
        "id": "4Yr33EvaC-7I"
      }
    },
    {
      "cell_type": "code",
      "source": [
        "Financial_Services = {\n",
        "    \"2008-10-03\": \"Emergency Economic Stabilization Act\",\n",
        "    \"2009-02-17\": \"American Recovery and Reinvestment Act (banking support)\",\n",
        "    \"2009-05-22\": \"Credit Card Accountability Responsibility and Disclosure Act\",\n",
        "    \"2010-07-21\": \"Dodd-Frank Wall Street Reform and Consumer Protection Act\",\n",
        "    \"2010-12-17\": \"Tax Relief, Unemployment Insurance Reauthorization, and Job Creation Act\",\n",
        "    \"2011-08-02\": \"Budget Control Act\",\n",
        "    \"2012-04-05\": \"JOBS Act\",\n",
        "    \"2013-01-02\": \"American Taxpayer Relief Act\",\n",
        "    \"2014-02-07\": \"Agricultural Act (Farm Bill, includes financial provisions)\",\n",
        "    \"2015-10-30\": \"Bipartisan Budget Act of 2015\",\n",
        "    \"2016-06-30\": \"Puerto Rico Oversight, Management, and Economic Stability Act (PROMESA)\",\n",
        "    \"2016-12-13\": \"21st Century Cures Act (financial provisions for healthcare)\",\n",
        "    \"2017-12-22\": \"Tax Cuts and Jobs Act\",\n",
        "    \"2018-05-24\": \"Economic Growth, Regulatory Relief, and Consumer Protection Act\",\n",
        "    \"2018-10-10\": \"Secure and Fair Enforcement (SAFE) Banking Act\",\n",
        "    \"2019-12-20\": \"Further Consolidated Appropriations Act, 2020\",\n",
        "    \"2020-01-29\": \"USMCA Implementation Act (financial provisions)\",\n",
        "    \"2020-03-27\": \"CARES Act (financial relief for businesses)\",\n",
        "    \"2020-12-27\": \"Consolidated Appropriations Act, 2021\",\n",
        "    \"2021-03-11\": \"American Rescue Plan Act (financial assistance)\",\n",
        "    \"2022-08-16\": \"Inflation Reduction Act (financial incentives for clean energy)\",\n",
        "    \"2023-01-01\": \"No Surprises Act (financial protections in healthcare)\",\n",
        "    \"2023-06-25\": \"Bipartisan Safer Communities Act (financial support for safety initiatives)\",\n",
        "    \"2024-04-20\": \"Reforming Intelligence and Securing America Act\",\n",
        "    \"2024-09-26\": \"Continuing Appropriations and Extensions Act, 2025\",\n",
        "}\n"
      ],
      "metadata": {
        "id": "dCkWPIWTC7-M"
      },
      "execution_count": 191,
      "outputs": []
    },
    {
      "cell_type": "code",
      "source": [
        "Energy = {\n",
        "    \"2015-12-18\": \"Protecting Americans from Tax Hikes (PATH) Act (energy credits)\",\n",
        "    \"2016-12-18\": \"Renewable Fuel Standard Program Amendments\",\n",
        "    \"2017-01-24\": \"Executive Order on Expediting Energy Infrastructure Projects\",\n",
        "    \"2018-03-23\": \"Omnibus Appropriations Bill (energy infrastructure funding)\",\n",
        "    \"2018-10-23\": \"America’s Water Infrastructure Act\",\n",
        "    \"2019-06-14\": \"Energy Act (renewable energy initiatives)\",\n",
        "    \"2020-01-01\": \"Corporate Average Fuel Economy (CAFE) Standards Update\",\n",
        "    \"2020-04-24\": \"Paycheck Protection Program and Health Care Enhancement Act\",\n",
        "    \"2021-06-15\": \"Clean Energy for America Act\",\n",
        "    \"2021-11-15\": \"Infrastructure Investment and Jobs Act (energy provisions)\",\n",
        "    \"2022-08-16\": \"Inflation Reduction Act (renewable energy support)\",\n",
        "    \"2023-02-14\": \"Domestic Energy Production Act\",\n",
        "    \"2023-04-15\": \"National Petroleum Reserve Expansion Act\",\n",
        "    \"2024-01-20\": \"Strategic Energy Storage Act\",\n",
        "    \"2024-03-10\": \"Green Energy Incentives and Tax Credits Act\",\n",
        "    \"2024-04-02\": \"Energy Efficiency Standards Act\",\n",
        "    \"2024-05-10\": \"National Energy Security Act\",\n",
        "    \"2024-06-21\": \"Energy Infrastructure Modernization Act\",\n",
        "    \"2024-07-22\": \"Climate Resilience and Adaptation Act\",\n",
        "    \"2024-08-15\": \"Renewable Energy Workforce Development Act\",\n",
        "    \"2024-09-10\": \"Low-Carbon Transportation Act\",\n",
        "    \"2024-09-26\": \"Energy Market Reform Act\",\n",
        "    \"2024-10-05\": \"Offshore Wind Energy Development Act\",\n",
        "    \"2024-10-15\": \"Artificial Intelligence Governance and Accountability Act (energy efficiency monitoring)\",\n",
        "}\n"
      ],
      "metadata": {
        "id": "QcLCHA_4C-RV"
      },
      "execution_count": 192,
      "outputs": []
    },
    {
      "cell_type": "code",
      "source": [
        "Technology = {\n",
        "    \"2009-02-17\": \"American Recovery and Reinvestment Act (broadband and tech grants)\",\n",
        "    \"2012-04-05\": \"JOBS Act (boosts tech startups)\",\n",
        "    \"2014-01-17\": \"Presidential Directive on Cybersecurity Standards\",\n",
        "    \"2015-07-29\": \"Digital Accountability and Transparency Act (DATA Act)\",\n",
        "    \"2016-06-21\": \"Consumer Review Fairness Act\",\n",
        "    \"2017-12-18\": \"Internet Freedom Order\",\n",
        "    \"2018-10-10\": \"Secure and Trusted Communications Networks Act\",\n",
        "    \"2020-01-29\": \"USMCA Implementation Act (digital trade provisions)\",\n",
        "    \"2021-05-12\": \"Executive Order on Improving the Nation's Cybersecurity\",\n",
        "    \"2021-11-15\": \"Infrastructure Investment and Jobs Act (broadband expansion)\",\n",
        "    \"2022-08-16\": \"Inflation Reduction Act (tech for clean energy)\",\n",
        "    \"2023-03-30\": \"Innovation and Competition Act\",\n",
        "    \"2023-05-25\": \"Digital Trade and Data Act\",\n",
        "    \"2023-08-12\": \"Tech Workforce Training Act\",\n",
        "    \"2024-02-14\": \"Data Privacy and Protection Act\",\n",
        "    \"2024-04-15\": \"Digital Infrastructure Protection Act\",\n",
        "    \"2024-05-10\": \"National Cybersecurity Strategy Implementation Act\",\n",
        "    \"2024-06-10\": \"Quantum Computing Initiative\",\n",
        "    \"2024-07-12\": \"AI and Emerging Tech Development Act\",\n",
        "    \"2024-08-01\": \"Innovation in Manufacturing Technology Act\",\n",
        "    \"2024-09-01\": \"Secure IoT Devices Act\",\n",
        "    \"2024-09-18\": \"Advanced Robotics Manufacturing Act\",\n",
        "    \"2024-10-05\": \"Ethical AI Regulation Act\",\n",
        "    \"2024-10-15\": \"Artificial Intelligence Governance and Accountability Act\",\n",
        "}\n"
      ],
      "metadata": {
        "id": "Aop2QMmdDXIf"
      },
      "execution_count": 193,
      "outputs": []
    },
    {
      "cell_type": "code",
      "source": [
        "Healthcare = {\n",
        "    \"2010-03-23\": \"Affordable Care Act\",\n",
        "    \"2013-10-01\": \"Medicare Access and CHIP Reauthorization Act\",\n",
        "    \"2014-12-16\": \"Ukraine Freedom Support Act (healthcare aid provisions)\",\n",
        "    \"2015-10-30\": \"Bipartisan Budget Act (healthcare provisions)\",\n",
        "    \"2016-12-13\": \"21st Century Cures Act\",\n",
        "    \"2017-05-05\": \"Consolidated Appropriations Act (includes healthcare funding)\",\n",
        "    \"2018-02-09\": \"Bipartisan Budget Act (healthcare provisions)\",\n",
        "    \"2019-10-01\": \"Medicare Prescription Drug Pricing Plan\",\n",
        "    \"2020-03-27\": \"CARES Act (healthcare support)\",\n",
        "    \"2020-12-27\": \"Consolidated Appropriations Act, 2021\",\n",
        "    \"2021-03-11\": \"American Rescue Plan Act (healthcare support)\",\n",
        "    \"2021-08-01\": \"Healthcare Workforce Development Act\",\n",
        "    \"2022-03-15\": \"Consolidated Appropriations Act, 2022\",\n",
        "    \"2022-08-16\": \"Inflation Reduction Act (prescription drug provisions)\",\n",
        "    \"2023-01-01\": \"No Surprises Act\",\n",
        "    \"2023-06-20\": \"Healthcare Innovation Act\",\n",
        "    \"2023-09-01\": \"Telehealth Expansion Act\",\n",
        "    \"2024-02-18\": \"Health Data Privacy Act\",\n",
        "    \"2024-04-11\": \"Medicare for Rural Communities Act\",\n",
        "    \"2024-05-10\": \"Healthcare Worker Protection Act\",\n",
        "    \"2024-06-08\": \"Mental Health Services Access Act\",\n",
        "    \"2024-07-01\": \"Affordable Medications Act\",\n",
        "    \"2024-08-16\": \"Elder Care Improvement Act\",\n",
        "    \"2024-09-20\": \"Rural Health Equity Act\",\n",
        "}\n"
      ],
      "metadata": {
        "id": "syfrhX2MDZyX"
      },
      "execution_count": 194,
      "outputs": []
    },
    {
      "cell_type": "code",
      "source": [
        "Industrials = {\n",
        "    \"2009-02-17\": \"American Recovery and Reinvestment Act (infrastructure spending)\",\n",
        "    \"2010-07-21\": \"Dodd-Frank Act (manufacturing provisions)\",\n",
        "    \"2012-07-06\": \"Moving Ahead for Progress in the 21st Century Act (MAP-21)\",\n",
        "    \"2013-03-01\": \"Sequestration Implementation under the Budget Control Act\",\n",
        "    \"2014-02-07\": \"Agricultural Act (Farm Bill, rural infrastructure)\",\n",
        "    \"2014-12-16\": \"Ukraine Freedom Support Act (defense spending)\",\n",
        "    \"2015-10-05\": \"Surface Transportation Extension Act\",\n",
        "    \"2016-12-13\": \"21st Century Cures Act (infrastructure for healthcare facilities)\",\n",
        "    \"2017-06-06\": \"Strengthening Career and Technical Education for the 21st Century Act\",\n",
        "    \"2018-03-23\": \"Omnibus Appropriations Bill (manufacturing and infrastructure funding)\",\n",
        "    \"2018-10-23\": \"America’s Water Infrastructure Act\",\n",
        "    \"2019-01-14\": \"Department of Defense Appropriations Act (industrial provisions)\",\n",
        "    \"2020-01-29\": \"USMCA Implementation Act (manufacturing impact)\",\n",
        "    \"2020-03-27\": \"CARES Act (industrial sector support)\",\n",
        "    \"2021-03-11\": \"American Rescue Plan Act (infrastructure spending)\",\n",
        "    \"2021-11-15\": \"Infrastructure Investment and Jobs Act\",\n",
        "    \"2022-05-10\": \"Advanced Manufacturing Act\",\n",
        "    \"2022-08-16\": \"Inflation Reduction Act (industrial manufacturing support)\",\n",
        "    \"2023-01-10\": \"Made in America Manufacturing Act\",\n",
        "    \"2023-04-25\": \"Supply Chain Resilience Act\",\n",
        "    \"2024-02-15\": \"Clean Manufacturing Expansion Act\",\n",
        "    \"2024-05-01\": \"Infrastructure Resiliency Act\",\n",
        "    \"2024-06-08\": \"American Manufacturing Competitiveness Act\",\n",
        "    \"2024-07-22\": \"Climate Resilience and Adaptation Act (industrial infrastructure)\",\n",
        "    \"2024-09-01\": \"Sustainable Infrastructure Development Act\",\n",
        "}\n"
      ],
      "metadata": {
        "id": "L43Wn4jmDcd2"
      },
      "execution_count": 195,
      "outputs": []
    },
    {
      "cell_type": "code",
      "source": [
        "Consumer_Discretionary = {\n",
        "    \"2009-02-17\": \"American Recovery and Reinvestment Act (stimulus boosts consumer spending)\",\n",
        "    \"2010-07-21\": \"Dodd-Frank Act (consumer protection provisions)\",\n",
        "    \"2013-12-20\": \"Bipartisan Budget Act (consumer spending measures)\",\n",
        "    \"2015-11-02\": \"Bipartisan Budget Act of 2015\",\n",
        "    \"2017-12-22\": \"Tax Cuts and Jobs Act (disposable income increases)\",\n",
        "    \"2018-06-20\": \"Tourism for All Act\",\n",
        "    \"2018-10-24\": \"Opioid Crisis Response Act (support for addiction services)\",\n",
        "    \"2020-03-27\": \"CARES Act (stimulus boosts consumer spending)\",\n",
        "    \"2021-03-11\": \"American Rescue Plan Act (stimulus for consumer spending)\",\n",
        "    \"2022-03-30\": \"Support for Local Restaurants Act\",\n",
        "    \"2023-02-14\": \"Entertainment Industry Workforce Act\",\n",
        "    \"2023-06-01\": \"Child and Family Tax Credit Expansion Act\",\n",
        "    \"2023-08-01\": \"Recreation and Outdoors Act\",\n",
        "    \"2023-09-12\": \"Retailer Support and Innovation Act\",\n",
        "    \"2024-01-30\": \"Affordable Travel Act\",\n",
        "    \"2024-03-18\": \"Consumer Product Safety Enhancement Act\",\n",
        "    \"2024-05-05\": \"Creative Arts Funding and Support Act\",\n",
        "    \"2024-06-15\": \"Affordable Housing and Rental Relief Act\",\n",
        "    \"2024-07-01\": \"Holiday Retail Support Act\",\n",
        "    \"2024-08-12\": \"Home Improvement Support Act\",\n",
        "    \"2024-09-01\": \"Consumer Credit Protection Act Update\",\n",
        "    \"2024-09-15\": \"Hospitality and Tourism Workforce Act\",\n",
        "    \"2024-09-26\": \"Consumer Spending and Savings Act\",\n",
        "    \"2024-10-05\": \"E-commerce Safety and Compliance Act\",\n",
        "}\n"
      ],
      "metadata": {
        "id": "sl26RwPZDf6v"
      },
      "execution_count": 196,
      "outputs": []
    },
    {
      "cell_type": "code",
      "source": [
        "Consumer_Staples = {\n",
        "    \"2014-02-07\": \"Agricultural Act (Farm Bill)\",\n",
        "    \"2015-12-18\": \"Protecting Americans from Tax Hikes (PATH) Act (food and agriculture incentives)\",\n",
        "    \"2016-07-01\": \"Food Safety Modernization Act Implementation\",\n",
        "    \"2018-02-09\": \"Bipartisan Budget Act (food programs)\",\n",
        "    \"2018-06-30\": \"USDA Organic Certification Standards Update\",\n",
        "    \"2019-04-01\": \"Dairy and Livestock Industry Support Act\",\n",
        "    \"2020-03-27\": \"CARES Act (essential services support)\",\n",
        "    \"2021-03-11\": \"American Rescue Plan Act (food assistance provisions)\",\n",
        "    \"2021-09-01\": \"Essential Goods Price Stabilization Act\",\n",
        "    \"2022-08-16\": \"Inflation Reduction Act (food cost reductions)\",\n",
        "    \"2023-03-15\": \"Food Security and Farm Development Act\",\n",
        "    \"2023-06-01\": \"Nutrition and Health Education Act\",\n",
        "    \"2023-08-10\": \"Consumer Protection in Food Safety Act\",\n",
        "    \"2023-11-01\": \"Rural Access to Healthy Food Act\",\n",
        "    \"2024-02-11\": \"Supplemental Nutrition Assistance Program Expansion\",\n",
        "    \"2024-03-01\": \"Grocery Price Transparency Act\",\n",
        "    \"2024-04-15\": \"Beverage Industry Workforce Act\",\n",
        "    \"2024-06-15\": \"Rural Food Access and Equity Act\",\n",
        "    \"2024-07-18\": \"Essential Commodities Act\",\n",
        "    \"2024-08-01\": \"Household Goods Price Support Act\",\n",
        "    \"2024-09-01\": \"Clean Food Labeling Act\",\n",
        "    \"2024-09-15\": \"Consumer Food Safety Act\",\n",
        "    \"2024-09-26\": \"Agricultural and Food Security Act\",\n",
        "    \"2024-10-05\": \"Retail Food Standards Act\",\n",
        "}\n"
      ],
      "metadata": {
        "id": "uwsMDpO6DlWW"
      },
      "execution_count": 197,
      "outputs": []
    },
    {
      "cell_type": "code",
      "source": [
        "Telecommunications = {\n",
        "    \"2009-02-17\": \"American Recovery and Reinvestment Act (broadband expansion)\",\n",
        "    \"2012-02-22\": \"Spectrum Act (spectrum allocation for telecom)\",\n",
        "    \"2014-06-02\": \"Rural Broadband Expansion Act\",\n",
        "    \"2017-12-18\": \"Internet Freedom Order\",\n",
        "    \"2018-10-10\": \"Secure and Trusted Communications Networks Act\",\n",
        "    \"2019-01-01\": \"FCC Net Neutrality Repeal\",\n",
        "    \"2020-01-29\": \"USMCA Implementation Act (digital trade provisions)\",\n",
        "    \"2020-10-08\": \"Rural Digital Opportunity Fund\",\n",
        "    \"2021-06-30\": \"Broadband Data Improvement Act\",\n",
        "    \"2021-11-15\": \"Infrastructure Investment and Jobs Act (broadband funding)\",\n",
        "    \"2022-05-20\": \"5G Network Development Act\",\n",
        "    \"2022-08-16\": \"Inflation Reduction Act (telecommunications provisions)\",\n",
        "    \"2023-01-15\": \"Internet Access and Digital Equity Act\",\n",
        "    \"2023-04-05\": \"Digital Inclusion Act\",\n",
        "    \"2023-07-12\": \"Next Generation Wireless Act\",\n",
        "    \"2023-09-01\": \"Telecom Security Enhancement Act\",\n",
        "    \"2024-02-14\": \"Data Privacy and Protection Act\",\n",
        "    \"2024-04-15\": \"Broadband Accessibility Act\",\n",
        "    \"2024-05-10\": \"National Cybersecurity Strategy Implementation Act\",\n",
        "    \"2024-06-18\": \"Digital Infrastructure and Innovation Act\",\n",
        "    \"2024-07-12\": \"Telecommunications Competition and Investment Act\",\n",
        "    \"2024-08-01\": \"Rural Broadband Access Act\",\n",
        "    \"2024-09-05\": \"NextGen Internet Expansion Act\",\n",
        "    \"2024-09-26\": \"5G and Beyond Infrastructure Act\",\n",
        "    \"2024-10-10\": \"Internet User Protection Act\",\n",
        "}\n"
      ],
      "metadata": {
        "id": "8rMqQ6yGDrI4"
      },
      "execution_count": 198,
      "outputs": []
    },
    {
      "cell_type": "markdown",
      "source": [
        "# Stock in DJI"
      ],
      "metadata": {
        "id": "PJvMk3gvD57a"
      }
    },
    {
      "cell_type": "code",
      "source": [
        "# Define the stocks and their sectors for analysis (example list, please expand as needed)\n",
        "stocks = {\n",
        "    \"JPM\": \"Financial_Services\",\n",
        "    \"GS\": \"Financial_Services\",\n",
        "    \"AXP\": \"Financial_Services\",\n",
        "    \"TRV\": \"Financial_Services\",\n",
        "    \"CVX\": \"Energy\",\n",
        "    \"AAPL\": \"Technology\",\n",
        "    \"MSFT\": \"Technology\",\n",
        "    \"INTC\": \"Technology\",\n",
        "    \"CSCO\": \"Technology\",\n",
        "    \"IBM\": \"Technology\",\n",
        "    \"JNJ\": \"Healthcare\",\n",
        "    \"MRK\": \"Healthcare\",\n",
        "    \"AMGN\": \"Healthcare\",\n",
        "    \"UNH\": \"Healthcare\",\n",
        "    \"BA\": \"Industrials\",\n",
        "    \"CAT\": \"Industrials\",\n",
        "    \"MMM\": \"Industrials\",\n",
        "    \"HON\": \"Industrials\",\n",
        "    \"MCD\": \"Consumer_Discretionary\",\n",
        "    \"NKE\": \"Consumer_Discretionary\",\n",
        "    \"HD\": \"Consumer_Discretionary\",\n",
        "    \"DIS\": \"Consumer_Discretionary\",\n",
        "    \"PG\": \"Consumer_Staples\",\n",
        "    \"KO\": \"Consumer_Staples\",\n",
        "    \"WMT\": \"Consumer_Staples\",\n",
        "    \"VZ\": \"Telecommunications\",\n",
        "}"
      ],
      "metadata": {
        "id": "mBxCYuB4D4Pu"
      },
      "execution_count": 199,
      "outputs": []
    },
    {
      "cell_type": "code",
      "source": [
        "# Dictionary of dictionaries for each sector\n",
        "# It has been bug when I called sector to be dictionary name\n",
        "sector_dictionaries = {\n",
        "    \"Technology\": Technology,\n",
        "    \"Healthcare\": Healthcare,\n",
        "    \"Financial Services\": Financial_Services,\n",
        "    \"Energy\": Energy,\n",
        "    \"Industrials\": Industrials,\n",
        "    \"Consumer Discretionary\": Consumer_Discretionary,\n",
        "    \"Consumer Staples\": Consumer_Staples,\n",
        "    \"Telecommunications\": Telecommunications\n",
        "}\n"
      ],
      "metadata": {
        "id": "9lpFO3D3Mt9f"
      },
      "execution_count": 200,
      "outputs": []
    },
    {
      "cell_type": "markdown",
      "source": [
        "# Main code"
      ],
      "metadata": {
        "id": "232XouGGDucr"
      }
    },
    {
      "cell_type": "code",
      "source": [
        "# Download historical data\n",
        "data = {stock: yf.download(stock, start=\"2008-01-01\", end=\"2024-11-01\") for stock in stocks}"
      ],
      "metadata": {
        "colab": {
          "base_uri": "https://localhost:8080/"
        },
        "id": "w2OZdTirDyWC",
        "outputId": "c4c61bee-452a-40c4-f55b-e310dc603c66"
      },
      "execution_count": 201,
      "outputs": [
        {
          "output_type": "stream",
          "name": "stderr",
          "text": [
            "[*********************100%***********************]  1 of 1 completed\n",
            "[*********************100%***********************]  1 of 1 completed\n",
            "[*********************100%***********************]  1 of 1 completed\n",
            "[*********************100%***********************]  1 of 1 completed\n",
            "[*********************100%***********************]  1 of 1 completed\n",
            "[*********************100%***********************]  1 of 1 completed\n",
            "[*********************100%***********************]  1 of 1 completed\n",
            "[*********************100%***********************]  1 of 1 completed\n",
            "[*********************100%***********************]  1 of 1 completed\n",
            "[*********************100%***********************]  1 of 1 completed\n",
            "[*********************100%***********************]  1 of 1 completed\n",
            "[*********************100%***********************]  1 of 1 completed\n",
            "[*********************100%***********************]  1 of 1 completed\n",
            "[*********************100%***********************]  1 of 1 completed\n",
            "[*********************100%***********************]  1 of 1 completed\n",
            "[*********************100%***********************]  1 of 1 completed\n",
            "[*********************100%***********************]  1 of 1 completed\n",
            "[*********************100%***********************]  1 of 1 completed\n",
            "[*********************100%***********************]  1 of 1 completed\n",
            "[*********************100%***********************]  1 of 1 completed\n",
            "[*********************100%***********************]  1 of 1 completed\n",
            "[*********************100%***********************]  1 of 1 completed\n",
            "[*********************100%***********************]  1 of 1 completed\n",
            "[*********************100%***********************]  1 of 1 completed\n",
            "[*********************100%***********************]  1 of 1 completed\n",
            "[*********************100%***********************]  1 of 1 completed\n"
          ]
        }
      ]
    },
    {
      "cell_type": "markdown",
      "source": [
        "# Calculate policy scores"
      ],
      "metadata": {
        "id": "DNOe92x-Nbq9"
      }
    },
    {
      "cell_type": "code",
      "source": [
        "# Calculate Policy Impact Scores\n",
        "policy_scores = {}\n",
        "for ticker, sector in stocks.items():\n",
        "    stock_data = data[ticker]\n",
        "    stock_data[\"Return\"] = np.log(stock_data[\"Adj Close\"] / stock_data[\"Adj Close\"].shift(1))\n",
        "\n",
        "    # Initialize list to collect event scores for this stock\n",
        "    event_scores = []\n",
        "    # We gonna count only major event for each sector and separately consider each sector.\n",
        "    sector_dict = globals().get(sector)\n",
        "    for event_date in sector_dict.keys():\n",
        "        # event windows means the event approximately affect to stock price n days\n",
        "        # Define event window: 5 days before, after, and now\n",
        "        event_window_after = stock_data.loc[event_date:].head(5)[\"Return\"]\n",
        "        event_window_before= stock_data.loc[:event_date].tail(5)[\"Return\"]\n",
        "        event_window_now= stock_data.loc[event_date:event_date][\"Return\"]\n",
        "        event_window= pd.concat([event_window_after, event_window_before,event_window_now])\n",
        "        # Calculate normal return as average return 30 days before the event\n",
        "        normal_window = stock_data.loc[:event_date].tail(30)[\"Return\"]\n",
        "        normal_return = normal_window.mean()\n",
        "\n",
        "        # Calculate abnormal returns and sum absolute values\n",
        "        abnormal_returns = event_window - normal_return\n",
        "        #Assume that weighted factors (w) are the same of all time so, we can put abs to w(beta)\n",
        "        event_sensitivity_score = np.sum(np.abs(abnormal_returns))\n",
        "        event_scores.append(event_sensitivity_score)\n",
        "\n",
        "    # Average sensitivity score across events\n",
        "    policy_scores[ticker] = np.mean(event_scores)\n"
      ],
      "metadata": {
        "id": "2yHDpzdtEYT1"
      },
      "execution_count": 202,
      "outputs": []
    },
    {
      "cell_type": "code",
      "source": [
        "# Convert to DataFrame for analysis\n",
        "policy_df = pd.DataFrame.from_dict(policy_scores, orient=\"index\", columns=[\"Policy Impact Score\"])\n",
        "policy_df[\"Sector\"] = policy_df.index.map(stocks.get)"
      ],
      "metadata": {
        "id": "HoEUDquNHZa8"
      },
      "execution_count": 203,
      "outputs": []
    },
    {
      "cell_type": "code",
      "source": [
        "# Group by Sector and calculate average policy impact score for each sector\n",
        "sector_impact = policy_df.groupby(\"Sector\")[\"Policy Impact Score\"].mean()\n",
        "sector_impact = sector_impact.sort_values(ascending=False)"
      ],
      "metadata": {
        "id": "RQmX4OSAHaXN"
      },
      "execution_count": 204,
      "outputs": []
    },
    {
      "cell_type": "code",
      "source": [
        "# Plot Sector Impact Scores\n",
        "plt.figure(figsize=(10, 6))\n",
        "sector_impact.plot(kind=\"bar\")\n",
        "plt.title(\"Policy Impact Score by Sector (2008-2024)\")\n",
        "plt.xlabel(\"Sector\")\n",
        "plt.ylabel(\"Average Policy Impact Score\")\n",
        "plt.show()"
      ],
      "metadata": {
        "colab": {
          "base_uri": "https://localhost:8080/",
          "height": 720
        },
        "id": "cSoMBWPRHdGf",
        "outputId": "2bf9d686-ceaa-4c45-e254-faa38a1573fd"
      },
      "execution_count": 205,
      "outputs": [
        {
          "output_type": "display_data",
          "data": {
            "text/plain": [
              "<Figure size 1000x600 with 1 Axes>"
            ],
            "image/png": "[encoded data removed]"
          },
          "metadata": {}
        }
      ]
    }
  ]
}