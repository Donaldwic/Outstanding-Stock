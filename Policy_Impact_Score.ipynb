{
  "nbformat": 4,
  "nbformat_minor": 0,
  "metadata": {
    "colab": {
      "provenance": [],
      "authorship_tag": "ABX9TyOo4p0BriwRUxQPLjueAqN9",
      "include_colab_link": true
    },
    "kernelspec": {
      "name": "python3",
      "display_name": "Python 3"
    },
    "language_info": {
      "name": "python"
    }
  },
  "cells": [
    {
      "cell_type": "markdown",
      "metadata": {
        "id": "view-in-github",
        "colab_type": "text"
      },
      "source": [
        "<a href=\"https://colab.research.google.com/github/Donaldwic/Outstanding-Stock/blob/main/Policy_Impact_Score.ipynb\" target=\"_parent\"><img src=\"https://colab.research.google.com/assets/colab-badge.svg\" alt=\"Open In Colab\"/></a>"
      ]
    },
    {
      "cell_type": "markdown",
      "source": [
        "# Policy Impact Score (PIS)\n",
        "The Policy Impact Score (PIS) is a quantitative metric designed to measure the sensitivity of a stock or sector's returns to government policy changes. By examining the statistical relationship between policy factors and stock returns, the PIS helps investors assess which assets may be most affected by regulatory, interest rate, and policy announcement changes. The PIS uses a multi-factor regression approach, isolating specific policy-related factors that drive returns in the market.\n",
        "\n",
        "Multi-Factor Regression Model for Policy Impact\n",
        "To calculate the Policy Impact Score, we define a regression model where returns are regressed on policy-related factors. Mathematically, this is expressed as:\n",
        "\n",
        "$$𝑅_𝑡=𝛼+𝛽_1𝐹_{1,𝑡}+𝛽_2𝐹_{2,𝑡}+𝛽_3𝐹_{3,𝑡}+𝜖_𝑡$$\n",
        "\n",
        "where:\n",
        "\n",
        "* $𝑅_t$​ : Return of a stock or sector at time $𝑡$\n",
        "\n",
        "* $𝛼$ : Intercept term, representing the baseline return unaffected by policy events.\n",
        "* $𝛽_1,𝛽_2,𝛽_3$ : Coefficients that measure sensitivity to policy factors.\n",
        "\n",
        "* $F_{1,t}​,F_{2,t}​,F_{3,t}$: Policy factors that can affect to stock price\n",
        "\n",
        "* $𝜖_𝑡$​ : Error term, representing random variations in returns not explained by policy factors.\n",
        "\n",
        "\n",
        "Each $β_i$​ coefficient provides insight into the stock’s or sector’s exposure to a specific type of policy. We estimate these coefficients through regression analysis on historical data, where policy factors are dummy variables or quantitative measures (e.g., using values of 0 or 1 depending on the presence of a policy event, or larger values if more significant events occur).\n",
        "\n",
        "Calculating the Policy Impact Score (PIS)\n",
        "The Policy Impact Score itself is constructed as a weighted sum of the absolute values of these sensitivity coefficients, denoting the aggregate impact of policy on returns:\n",
        "\n",
        "$$PIS=𝑤_1∣𝛽_1∣+𝑤_2∣𝛽_2∣+𝑤_3∣𝛽_3∣$$\n",
        "\n",
        "where:\n",
        "\n",
        "* $𝑤_1,𝑤_2,𝑤_3$ : Weights assigned to each policy factor, representing the relative importance or prevalence of each factor in the sector.\n",
        "\n",
        "* $∣𝛽_𝑖∣$ : Absolute value of each coefficient, representing the magnitude of impact without regard to direction.\n",
        "The weights $𝑤_𝑖$ are chosen based on either historical relevance or industry sensitivity to each policy type. By taking the absolute values of the $𝛽_𝑖$ terms, we focus on the intensity of the impact rather than its direction (positive or negative).\n",
        "\n",
        "Interpretation and Use of the PIS\n",
        "* High PIS: A higher PIS indicates that the stock or sector is highly sensitive to policy changes, suggesting a higher likelihood of significant returns (or risks) in response to new policies.\n",
        "* Low PIS: A lower PIS suggests reduced sensitivity, meaning the stock or sector is relatively insulated from policy fluctuations.\n",
        "Example Calculation\n",
        "Assume that for a particular stock, we estimate the following coefficients and assign these weights:\n",
        "\n",
        "$$𝛽_1=1.0,𝛽_2=−0.6,𝛽_3=1.5,𝑤_1=0.5,𝑤_2=0.2,𝑤_3=0.3$$\n",
        "\n",
        "The Policy Impact Score would be calculated as follows:\n",
        "\n",
        "$$PIS=0.5× ∣1.0∣+0.2× ∣−0.6∣+ 0.3×∣1.5∣=1.07$$\n",
        "\n",
        "This score of $1.07$ quantifies the stock’s overall sensitivity to policy events. Higher scores indicate greater exposure, allowing investors to assess risks and opportunities arising from policy-related market shifts."
      ],
      "metadata": {
        "id": "V6FFfM-lWbrv"
      }
    },
    {
      "cell_type": "code",
      "execution_count": 207,
      "metadata": {
        "id": "of_foZP2WaKJ"
      },
      "outputs": [],
      "source": [
        "import numpy as np\n",
        "import pandas as pd\n",
        "import yfinance as yf\n",
        "import matplotlib.pyplot as plt\n",
        "import seaborn as sns\n",
        "import datetime"
      ]
    },
    {
      "cell_type": "markdown",
      "source": [
        "# Dictionary event about policies for each sector"
      ],
      "metadata": {
        "id": "fwNG4ceEWjlk"
      }
    },
    {
      "cell_type": "code",
      "source": [
        "Financial_Services = {\n",
        "    \"2008-10-03\": \"Emergency Economic Stabilization Act\",\n",
        "    \"2009-02-17\": \"American Recovery and Reinvestment Act (banking support)\",\n",
        "    \"2009-05-22\": \"Credit Card Accountability Responsibility and Disclosure Act\",\n",
        "    \"2010-07-21\": \"Dodd-Frank Wall Street Reform and Consumer Protection Act\",\n",
        "    \"2010-12-17\": \"Tax Relief, Unemployment Insurance Reauthorization, and Job Creation Act\",\n",
        "    \"2011-08-02\": \"Budget Control Act\",\n",
        "    \"2012-04-05\": \"JOBS Act\",\n",
        "    \"2013-01-02\": \"American Taxpayer Relief Act\",\n",
        "    \"2014-02-07\": \"Agricultural Act (Farm Bill, includes financial provisions)\",\n",
        "    \"2015-10-30\": \"Bipartisan Budget Act of 2015\",\n",
        "    \"2016-06-30\": \"Puerto Rico Oversight, Management, and Economic Stability Act (PROMESA)\",\n",
        "    \"2016-12-13\": \"21st Century Cures Act (financial provisions for healthcare)\",\n",
        "    \"2017-12-22\": \"Tax Cuts and Jobs Act\",\n",
        "    \"2018-05-24\": \"Economic Growth, Regulatory Relief, and Consumer Protection Act\",\n",
        "    \"2018-10-10\": \"Secure and Fair Enforcement (SAFE) Banking Act\",\n",
        "    \"2019-12-20\": \"Further Consolidated Appropriations Act, 2020\",\n",
        "    \"2020-01-29\": \"USMCA Implementation Act (financial provisions)\",\n",
        "    \"2020-03-27\": \"CARES Act (financial relief for businesses)\",\n",
        "    \"2020-12-27\": \"Consolidated Appropriations Act, 2021\",\n",
        "    \"2021-03-11\": \"American Rescue Plan Act (financial assistance)\",\n",
        "    \"2022-08-16\": \"Inflation Reduction Act (financial incentives for clean energy)\",\n",
        "    \"2023-01-01\": \"No Surprises Act (financial protections in healthcare)\",\n",
        "    \"2023-06-25\": \"Bipartisan Safer Communities Act (financial support for safety initiatives)\",\n",
        "    \"2024-04-20\": \"Reforming Intelligence and Securing America Act\",\n",
        "    \"2024-09-26\": \"Continuing Appropriations and Extensions Act, 2025\",\n",
        "}"
      ],
      "metadata": {
        "id": "H9ue6N8EWpKo"
      },
      "execution_count": 208,
      "outputs": []
    },
    {
      "cell_type": "code",
      "source": [
        "Energy = {\n",
        "    \"2015-12-18\": \"Protecting Americans from Tax Hikes (PATH) Act (energy credits)\",\n",
        "    \"2016-12-18\": \"Renewable Fuel Standard Program Amendments\",\n",
        "    \"2017-01-24\": \"Executive Order on Expediting Energy Infrastructure Projects\",\n",
        "    \"2018-03-23\": \"Omnibus Appropriations Bill (energy infrastructure funding)\",\n",
        "    \"2018-10-23\": \"America’s Water Infrastructure Act\",\n",
        "    \"2019-06-14\": \"Energy Act (renewable energy initiatives)\",\n",
        "    \"2020-01-01\": \"Corporate Average Fuel Economy (CAFE) Standards Update\",\n",
        "    \"2020-04-24\": \"Paycheck Protection Program and Health Care Enhancement Act\",\n",
        "    \"2021-06-15\": \"Clean Energy for America Act\",\n",
        "    \"2021-11-15\": \"Infrastructure Investment and Jobs Act (energy provisions)\",\n",
        "    \"2022-08-16\": \"Inflation Reduction Act (renewable energy support)\",\n",
        "    \"2023-02-14\": \"Domestic Energy Production Act\",\n",
        "    \"2023-04-15\": \"National Petroleum Reserve Expansion Act\",\n",
        "    \"2024-01-20\": \"Strategic Energy Storage Act\",\n",
        "    \"2024-03-10\": \"Green Energy Incentives and Tax Credits Act\",\n",
        "    \"2024-04-02\": \"Energy Efficiency Standards Act\",\n",
        "    \"2024-05-10\": \"National Energy Security Act\",\n",
        "    \"2024-06-21\": \"Energy Infrastructure Modernization Act\",\n",
        "    \"2024-07-22\": \"Climate Resilience and Adaptation Act\",\n",
        "    \"2024-08-15\": \"Renewable Energy Workforce Development Act\",\n",
        "    \"2024-09-10\": \"Low-Carbon Transportation Act\",\n",
        "    \"2024-09-26\": \"Energy Market Reform Act\",\n",
        "    \"2024-10-05\": \"Offshore Wind Energy Development Act\",\n",
        "    \"2024-10-15\": \"Artificial Intelligence Governance and Accountability Act (energy efficiency monitoring)\",\n",
        "}"
      ],
      "metadata": {
        "id": "JHaa1jjRWpVB"
      },
      "execution_count": 209,
      "outputs": []
    },
    {
      "cell_type": "code",
      "source": [
        "Technology = {\n",
        "    \"2009-02-17\": \"American Recovery and Reinvestment Act (broadband and tech grants)\",\n",
        "    \"2012-04-05\": \"JOBS Act (boosts tech startups)\",\n",
        "    \"2014-01-17\": \"Presidential Directive on Cybersecurity Standards\",\n",
        "    \"2015-07-29\": \"Digital Accountability and Transparency Act (DATA Act)\",\n",
        "    \"2016-06-21\": \"Consumer Review Fairness Act\",\n",
        "    \"2017-12-18\": \"Internet Freedom Order\",\n",
        "    \"2018-10-10\": \"Secure and Trusted Communications Networks Act\",\n",
        "    \"2020-01-29\": \"USMCA Implementation Act (digital trade provisions)\",\n",
        "    \"2021-05-12\": \"Executive Order on Improving the Nation's Cybersecurity\",\n",
        "    \"2021-11-15\": \"Infrastructure Investment and Jobs Act (broadband expansion)\",\n",
        "    \"2022-08-16\": \"Inflation Reduction Act (tech for clean energy)\",\n",
        "    \"2023-03-30\": \"Innovation and Competition Act\",\n",
        "    \"2023-05-25\": \"Digital Trade and Data Act\",\n",
        "    \"2023-08-12\": \"Tech Workforce Training Act\",\n",
        "    \"2024-02-14\": \"Data Privacy and Protection Act\",\n",
        "    \"2024-04-15\": \"Digital Infrastructure Protection Act\",\n",
        "    \"2024-05-10\": \"National Cybersecurity Strategy Implementation Act\",\n",
        "    \"2024-06-10\": \"Quantum Computing Initiative\",\n",
        "    \"2024-07-12\": \"AI and Emerging Tech Development Act\",\n",
        "    \"2024-08-01\": \"Innovation in Manufacturing Technology Act\",\n",
        "    \"2024-09-01\": \"Secure IoT Devices Act\",\n",
        "    \"2024-09-18\": \"Advanced Robotics Manufacturing Act\",\n",
        "    \"2024-10-05\": \"Ethical AI Regulation Act\",\n",
        "    \"2024-10-15\": \"Artificial Intelligence Governance and Accountability Act\",\n",
        "}"
      ],
      "metadata": {
        "id": "HSPZEHa6Wpdh"
      },
      "execution_count": 210,
      "outputs": []
    },
    {
      "cell_type": "code",
      "source": [
        "Healthcare = {\n",
        "    \"2010-03-23\": \"Affordable Care Act\",\n",
        "    \"2013-10-01\": \"Medicare Access and CHIP Reauthorization Act\",\n",
        "    \"2014-12-16\": \"Ukraine Freedom Support Act (healthcare aid provisions)\",\n",
        "    \"2015-10-30\": \"Bipartisan Budget Act (healthcare provisions)\",\n",
        "    \"2016-12-13\": \"21st Century Cures Act\",\n",
        "    \"2017-05-05\": \"Consolidated Appropriations Act (includes healthcare funding)\",\n",
        "    \"2018-02-09\": \"Bipartisan Budget Act (healthcare provisions)\",\n",
        "    \"2019-10-01\": \"Medicare Prescription Drug Pricing Plan\",\n",
        "    \"2020-03-27\": \"CARES Act (healthcare support)\",\n",
        "    \"2020-12-27\": \"Consolidated Appropriations Act, 2021\",\n",
        "    \"2021-03-11\": \"American Rescue Plan Act (healthcare support)\",\n",
        "    \"2021-08-01\": \"Healthcare Workforce Development Act\",\n",
        "    \"2022-03-15\": \"Consolidated Appropriations Act, 2022\",\n",
        "    \"2022-08-16\": \"Inflation Reduction Act (prescription drug provisions)\",\n",
        "    \"2023-01-01\": \"No Surprises Act\",\n",
        "    \"2023-06-20\": \"Healthcare Innovation Act\",\n",
        "    \"2023-09-01\": \"Telehealth Expansion Act\",\n",
        "    \"2024-02-18\": \"Health Data Privacy Act\",\n",
        "    \"2024-04-11\": \"Medicare for Rural Communities Act\",\n",
        "    \"2024-05-10\": \"Healthcare Worker Protection Act\",\n",
        "    \"2024-06-08\": \"Mental Health Services Access Act\",\n",
        "    \"2024-07-01\": \"Affordable Medications Act\",\n",
        "    \"2024-08-16\": \"Elder Care Improvement Act\",\n",
        "    \"2024-09-20\": \"Rural Health Equity Act\",\n",
        "}"
      ],
      "metadata": {
        "id": "PCk_P-C3Wplo"
      },
      "execution_count": 211,
      "outputs": []
    },
    {
      "cell_type": "code",
      "source": [
        "Industrials = {\n",
        "    \"2009-02-17\": \"American Recovery and Reinvestment Act (infrastructure spending)\",\n",
        "    \"2010-07-21\": \"Dodd-Frank Act (manufacturing provisions)\",\n",
        "    \"2012-07-06\": \"Moving Ahead for Progress in the 21st Century Act (MAP-21)\",\n",
        "    \"2013-03-01\": \"Sequestration Implementation under the Budget Control Act\",\n",
        "    \"2014-02-07\": \"Agricultural Act (Farm Bill, rural infrastructure)\",\n",
        "    \"2014-12-16\": \"Ukraine Freedom Support Act (defense spending)\",\n",
        "    \"2015-10-05\": \"Surface Transportation Extension Act\",\n",
        "    \"2016-12-13\": \"21st Century Cures Act (infrastructure for healthcare facilities)\",\n",
        "    \"2017-06-06\": \"Strengthening Career and Technical Education for the 21st Century Act\",\n",
        "    \"2018-03-23\": \"Omnibus Appropriations Bill (manufacturing and infrastructure funding)\",\n",
        "    \"2018-10-23\": \"America’s Water Infrastructure Act\",\n",
        "    \"2019-01-14\": \"Department of Defense Appropriations Act (industrial provisions)\",\n",
        "    \"2020-01-29\": \"USMCA Implementation Act (manufacturing impact)\",\n",
        "    \"2020-03-27\": \"CARES Act (industrial sector support)\",\n",
        "    \"2021-03-11\": \"American Rescue Plan Act (infrastructure spending)\",\n",
        "    \"2021-11-15\": \"Infrastructure Investment and Jobs Act\",\n",
        "    \"2022-05-10\": \"Advanced Manufacturing Act\",\n",
        "    \"2022-08-16\": \"Inflation Reduction Act (industrial manufacturing support)\",\n",
        "    \"2023-01-10\": \"Made in America Manufacturing Act\",\n",
        "    \"2023-04-25\": \"Supply Chain Resilience Act\",\n",
        "    \"2024-02-15\": \"Clean Manufacturing Expansion Act\",\n",
        "    \"2024-05-01\": \"Infrastructure Resiliency Act\",\n",
        "    \"2024-06-08\": \"American Manufacturing Competitiveness Act\",\n",
        "    \"2024-07-22\": \"Climate Resilience and Adaptation Act (industrial infrastructure)\",\n",
        "    \"2024-09-01\": \"Sustainable Infrastructure Development Act\",\n",
        "}"
      ],
      "metadata": {
        "id": "IaXfocX-WpvU"
      },
      "execution_count": 212,
      "outputs": []
    },
    {
      "cell_type": "code",
      "source": [
        "Consumer_Discretionary = {\n",
        "    \"2009-02-17\": \"American Recovery and Reinvestment Act (stimulus boosts consumer spending)\",\n",
        "    \"2010-07-21\": \"Dodd-Frank Act (consumer protection provisions)\",\n",
        "    \"2013-12-20\": \"Bipartisan Budget Act (consumer spending measures)\",\n",
        "    \"2015-11-02\": \"Bipartisan Budget Act of 2015\",\n",
        "    \"2017-12-22\": \"Tax Cuts and Jobs Act (disposable income increases)\",\n",
        "    \"2018-06-20\": \"Tourism for All Act\",\n",
        "    \"2018-10-24\": \"Opioid Crisis Response Act (support for addiction services)\",\n",
        "    \"2020-03-27\": \"CARES Act (stimulus boosts consumer spending)\",\n",
        "    \"2021-03-11\": \"American Rescue Plan Act (stimulus for consumer spending)\",\n",
        "    \"2022-03-30\": \"Support for Local Restaurants Act\",\n",
        "    \"2023-02-14\": \"Entertainment Industry Workforce Act\",\n",
        "    \"2023-06-01\": \"Child and Family Tax Credit Expansion Act\",\n",
        "    \"2023-08-01\": \"Recreation and Outdoors Act\",\n",
        "    \"2023-09-12\": \"Retailer Support and Innovation Act\",\n",
        "    \"2024-01-30\": \"Affordable Travel Act\",\n",
        "    \"2024-03-18\": \"Consumer Product Safety Enhancement Act\",\n",
        "    \"2024-05-05\": \"Creative Arts Funding and Support Act\",\n",
        "    \"2024-06-15\": \"Affordable Housing and Rental Relief Act\",\n",
        "    \"2024-07-01\": \"Holiday Retail Support Act\",\n",
        "    \"2024-08-12\": \"Home Improvement Support Act\",\n",
        "    \"2024-09-01\": \"Consumer Credit Protection Act Update\",\n",
        "    \"2024-09-15\": \"Hospitality and Tourism Workforce Act\",\n",
        "    \"2024-09-26\": \"Consumer Spending and Savings Act\",\n",
        "    \"2024-10-05\": \"E-commerce Safety and Compliance Act\",\n",
        "}"
      ],
      "metadata": {
        "id": "1xwDVI6yWp3E"
      },
      "execution_count": 213,
      "outputs": []
    },
    {
      "cell_type": "code",
      "source": [
        "Consumer_Staples = {\n",
        "    \"2014-02-07\": \"Agricultural Act (Farm Bill)\",\n",
        "    \"2015-12-18\": \"Protecting Americans from Tax Hikes (PATH) Act (food and agriculture incentives)\",\n",
        "    \"2016-07-01\": \"Food Safety Modernization Act Implementation\",\n",
        "    \"2018-02-09\": \"Bipartisan Budget Act (food programs)\",\n",
        "    \"2018-06-30\": \"USDA Organic Certification Standards Update\",\n",
        "    \"2019-04-01\": \"Dairy and Livestock Industry Support Act\",\n",
        "    \"2020-03-27\": \"CARES Act (essential services support)\",\n",
        "    \"2021-03-11\": \"American Rescue Plan Act (food assistance provisions)\",\n",
        "    \"2021-09-01\": \"Essential Goods Price Stabilization Act\",\n",
        "    \"2022-08-16\": \"Inflation Reduction Act (food cost reductions)\",\n",
        "    \"2023-03-15\": \"Food Security and Farm Development Act\",\n",
        "    \"2023-06-01\": \"Nutrition and Health Education Act\",\n",
        "    \"2023-08-10\": \"Consumer Protection in Food Safety Act\",\n",
        "    \"2023-11-01\": \"Rural Access to Healthy Food Act\",\n",
        "    \"2024-02-11\": \"Supplemental Nutrition Assistance Program Expansion\",\n",
        "    \"2024-03-01\": \"Grocery Price Transparency Act\",\n",
        "    \"2024-04-15\": \"Beverage Industry Workforce Act\",\n",
        "    \"2024-06-15\": \"Rural Food Access and Equity Act\",\n",
        "    \"2024-07-18\": \"Essential Commodities Act\",\n",
        "    \"2024-08-01\": \"Household Goods Price Support Act\",\n",
        "    \"2024-09-01\": \"Clean Food Labeling Act\",\n",
        "    \"2024-09-15\": \"Consumer Food Safety Act\",\n",
        "    \"2024-09-26\": \"Agricultural and Food Security Act\",\n",
        "    \"2024-10-05\": \"Retail Food Standards Act\",\n",
        "}"
      ],
      "metadata": {
        "id": "nJ9ssJ42WqAg"
      },
      "execution_count": 214,
      "outputs": []
    },
    {
      "cell_type": "code",
      "source": [
        "Telecommunications = {\n",
        "    \"2009-02-17\": \"American Recovery and Reinvestment Act (broadband expansion)\",\n",
        "    \"2012-02-22\": \"Spectrum Act (spectrum allocation for telecom)\",\n",
        "    \"2014-06-02\": \"Rural Broadband Expansion Act\",\n",
        "    \"2017-12-18\": \"Internet Freedom Order\",\n",
        "    \"2018-10-10\": \"Secure and Trusted Communications Networks Act\",\n",
        "    \"2019-01-01\": \"FCC Net Neutrality Repeal\",\n",
        "    \"2020-01-29\": \"USMCA Implementation Act (digital trade provisions)\",\n",
        "    \"2020-10-08\": \"Rural Digital Opportunity Fund\",\n",
        "    \"2021-06-30\": \"Broadband Data Improvement Act\",\n",
        "    \"2021-11-15\": \"Infrastructure Investment and Jobs Act (broadband funding)\",\n",
        "    \"2022-05-20\": \"5G Network Development Act\",\n",
        "    \"2022-08-16\": \"Inflation Reduction Act (telecommunications provisions)\",\n",
        "    \"2023-01-15\": \"Internet Access and Digital Equity Act\",\n",
        "    \"2023-04-05\": \"Digital Inclusion Act\",\n",
        "    \"2023-07-12\": \"Next Generation Wireless Act\",\n",
        "    \"2023-09-01\": \"Telecom Security Enhancement Act\",\n",
        "    \"2024-02-14\": \"Data Privacy and Protection Act\",\n",
        "    \"2024-04-15\": \"Broadband Accessibility Act\",\n",
        "    \"2024-05-10\": \"National Cybersecurity Strategy Implementation Act\",\n",
        "    \"2024-06-18\": \"Digital Infrastructure and Innovation Act\",\n",
        "    \"2024-07-12\": \"Telecommunications Competition and Investment Act\",\n",
        "    \"2024-08-01\": \"Rural Broadband Access Act\",\n",
        "    \"2024-09-05\": \"NextGen Internet Expansion Act\",\n",
        "    \"2024-09-26\": \"5G and Beyond Infrastructure Act\",\n",
        "    \"2024-10-10\": \"Internet User Protection Act\",\n",
        "}"
      ],
      "metadata": {
        "id": "iu9JmPLFWqHI"
      },
      "execution_count": 215,
      "outputs": []
    },
    {
      "cell_type": "markdown",
      "source": [
        "# Stock in DJI"
      ],
      "metadata": {
        "id": "M1dRIRn5W9RT"
      }
    },
    {
      "cell_type": "code",
      "source": [
        "# Define the stocks and their sectors for analysis (example list, please expand as needed)\n",
        "stocks = {\n",
        "    \"JPM\": \"Financial_Services\",\n",
        "    \"GS\": \"Financial_Services\",\n",
        "    \"AXP\": \"Financial_Services\",\n",
        "    \"TRV\": \"Financial_Services\",\n",
        "    \"CVX\": \"Energy\",\n",
        "    \"AAPL\": \"Technology\",\n",
        "    \"MSFT\": \"Technology\",\n",
        "    \"INTC\": \"Technology\",\n",
        "    \"CSCO\": \"Technology\",\n",
        "    \"IBM\": \"Technology\",\n",
        "    \"JNJ\": \"Healthcare\",\n",
        "    \"MRK\": \"Healthcare\",\n",
        "    \"AMGN\": \"Healthcare\",\n",
        "    \"UNH\": \"Healthcare\",\n",
        "    \"BA\": \"Industrials\",\n",
        "    \"CAT\": \"Industrials\",\n",
        "    \"MMM\": \"Industrials\",\n",
        "    \"HON\": \"Industrials\",\n",
        "    \"MCD\": \"Consumer_Discretionary\",\n",
        "    \"NKE\": \"Consumer_Discretionary\",\n",
        "    \"HD\": \"Consumer_Discretionary\",\n",
        "    \"DIS\": \"Consumer_Discretionary\",\n",
        "    \"PG\": \"Consumer_Staples\",\n",
        "    \"KO\": \"Consumer_Staples\",\n",
        "    \"WMT\": \"Consumer_Staples\",\n",
        "    \"VZ\": \"Telecommunications\",\n",
        "}"
      ],
      "metadata": {
        "id": "meOAASKJW_Gq"
      },
      "execution_count": 216,
      "outputs": []
    },
    {
      "cell_type": "code",
      "source": [
        "# Dictionary of dictionaries for each sector\n",
        "# It has been bug when I called sector to be dictionary name\n",
        "sector_dictionaries = {\n",
        "    \"Technology\": Technology,\n",
        "    \"Healthcare\": Healthcare,\n",
        "    \"Financial Services\": Financial_Services,\n",
        "    \"Energy\": Energy,\n",
        "    \"Industrials\": Industrials,\n",
        "    \"Consumer Discretionary\": Consumer_Discretionary,\n",
        "    \"Consumer Staples\": Consumer_Staples,\n",
        "    \"Telecommunications\": Telecommunications\n",
        "}"
      ],
      "metadata": {
        "id": "_f6wuaS1XB82"
      },
      "execution_count": 217,
      "outputs": []
    },
    {
      "cell_type": "markdown",
      "source": [
        "# Main code"
      ],
      "metadata": {
        "id": "o2q_nT0cXI8j"
      }
    },
    {
      "cell_type": "code",
      "source": [
        "# Download historical data\n",
        "data = {stock: yf.download(stock, start=\"2008-01-01\", end=\"2024-11-01\") for stock in stocks}"
      ],
      "metadata": {
        "colab": {
          "base_uri": "https://localhost:8080/"
        },
        "id": "3E0u_nA6XMrS",
        "outputId": "5c208570-b3d7-4389-a9d6-2fff98732f2e"
      },
      "execution_count": 218,
      "outputs": [
        {
          "output_type": "stream",
          "name": "stderr",
          "text": [
            "[*********************100%***********************]  1 of 1 completed\n",
            "[*********************100%***********************]  1 of 1 completed\n",
            "[*********************100%***********************]  1 of 1 completed\n",
            "[*********************100%***********************]  1 of 1 completed\n",
            "[*********************100%***********************]  1 of 1 completed\n",
            "[*********************100%***********************]  1 of 1 completed\n",
            "[*********************100%***********************]  1 of 1 completed\n",
            "[*********************100%***********************]  1 of 1 completed\n",
            "[*********************100%***********************]  1 of 1 completed\n",
            "[*********************100%***********************]  1 of 1 completed\n",
            "[*********************100%***********************]  1 of 1 completed\n",
            "[*********************100%***********************]  1 of 1 completed\n",
            "[*********************100%***********************]  1 of 1 completed\n",
            "[*********************100%***********************]  1 of 1 completed\n",
            "[*********************100%***********************]  1 of 1 completed\n",
            "[*********************100%***********************]  1 of 1 completed\n",
            "[*********************100%***********************]  1 of 1 completed\n",
            "[*********************100%***********************]  1 of 1 completed\n",
            "[*********************100%***********************]  1 of 1 completed\n",
            "[*********************100%***********************]  1 of 1 completed\n",
            "[*********************100%***********************]  1 of 1 completed\n",
            "[*********************100%***********************]  1 of 1 completed\n",
            "[*********************100%***********************]  1 of 1 completed\n",
            "[*********************100%***********************]  1 of 1 completed\n",
            "[*********************100%***********************]  1 of 1 completed\n",
            "[*********************100%***********************]  1 of 1 completed\n"
          ]
        }
      ]
    },
    {
      "cell_type": "code",
      "source": [
        "sector_index_list= {\n",
        "    \"XLF\": \"Financial Services\",\n",
        "    \"XLE\": \"Energy\",\n",
        "    \"XLK\": \"Technology\",\n",
        "    \"XLV\": \"Healthcare\",\n",
        "    \"XLI\": \"Industrials\",\n",
        "    \"XLY\": \"Consumer Discretionary\",\n",
        "    \"XLP\": \"Consumer Staples\",\n",
        "    \"XLC\": \"Telecommunications\"}"
      ],
      "metadata": {
        "id": "yDj4NpyxqnS3"
      },
      "execution_count": 219,
      "outputs": []
    },
    {
      "cell_type": "code",
      "source": [
        "# Download historical data\n",
        "data_sector = {sector: yf.download(sector, start=\"2008-01-01\", end=datetime.date.today()) for sector in sector_index_list}"
      ],
      "metadata": {
        "colab": {
          "base_uri": "https://localhost:8080/"
        },
        "id": "ZRxtG_IZqkKJ",
        "outputId": "fc822c96-6d9a-4390-c68b-690009a4b841"
      },
      "execution_count": 220,
      "outputs": [
        {
          "output_type": "stream",
          "name": "stderr",
          "text": [
            "[*********************100%***********************]  1 of 1 completed\n",
            "[*********************100%***********************]  1 of 1 completed\n",
            "[*********************100%***********************]  1 of 1 completed\n",
            "[*********************100%***********************]  1 of 1 completed\n",
            "[*********************100%***********************]  1 of 1 completed\n",
            "[*********************100%***********************]  1 of 1 completed\n",
            "[*********************100%***********************]  1 of 1 completed\n",
            "[*********************100%***********************]  1 of 1 completed\n"
          ]
        }
      ]
    },
    {
      "cell_type": "code",
      "source": [
        "print(data[\"JPM\"])"
      ],
      "metadata": {
        "colab": {
          "base_uri": "https://localhost:8080/"
        },
        "id": "YZKa8XONwWAd",
        "outputId": "22536b97-694a-4a2f-b7f6-97e5617e6f16"
      },
      "execution_count": 221,
      "outputs": [
        {
          "output_type": "stream",
          "name": "stdout",
          "text": [
            "Price                       Adj Close       Close        High         Low  \\\n",
            "Ticker                            JPM         JPM         JPM         JPM   \n",
            "Date                                                                        \n",
            "2008-01-02 00:00:00+00:00   27.438890   42.169998   43.790001   42.000000   \n",
            "2008-01-03 00:00:00+00:00   27.250204   41.880001   42.650002   41.759998   \n",
            "2008-01-04 00:00:00+00:00   26.632059   40.930000   41.799999   40.630001   \n",
            "2008-01-07 00:00:00+00:00   26.898830   41.340000   41.580002   40.160000   \n",
            "2008-01-08 00:00:00+00:00   25.831734   39.700001   41.580002   39.419998   \n",
            "...                               ...         ...         ...         ...   \n",
            "2024-10-25 00:00:00+00:00  222.309998  222.309998  225.619995  220.880005   \n",
            "2024-10-28 00:00:00+00:00  225.500000  225.500000  225.639999  222.949997   \n",
            "2024-10-29 00:00:00+00:00  222.899994  222.899994  226.750000  222.809998   \n",
            "2024-10-30 00:00:00+00:00  224.410004  224.410004  226.309998  221.580002   \n",
            "2024-10-31 00:00:00+00:00  221.919998  221.919998  225.690002  221.820007   \n",
            "\n",
            "Price                            Open    Volume  \n",
            "Ticker                            JPM       JPM  \n",
            "Date                                             \n",
            "2008-01-02 00:00:00+00:00   43.549999  22122300  \n",
            "2008-01-03 00:00:00+00:00   42.340000  17150700  \n",
            "2008-01-04 00:00:00+00:00   41.410000  25873800  \n",
            "2008-01-07 00:00:00+00:00   41.099998  25644100  \n",
            "2008-01-08 00:00:00+00:00   41.459999  33646000  \n",
            "...                               ...       ...  \n",
            "2024-10-25 00:00:00+00:00  225.000000   6369700  \n",
            "2024-10-28 00:00:00+00:00  223.350006   6843000  \n",
            "2024-10-29 00:00:00+00:00  225.210007   6580000  \n",
            "2024-10-30 00:00:00+00:00  222.539993   7110900  \n",
            "2024-10-31 00:00:00+00:00  224.699997   7829900  \n",
            "\n",
            "[4238 rows x 6 columns]\n"
          ]
        }
      ]
    },
    {
      "cell_type": "markdown",
      "source": [
        "# Calculate policy scores"
      ],
      "metadata": {
        "id": "6pxsrxooXQQq"
      }
    },
    {
      "cell_type": "markdown",
      "source": [
        "# Abnormal return\n"
      ],
      "metadata": {
        "id": "l8PEddkyyrjh"
      }
    },
    {
      "cell_type": "code",
      "source": [
        "# Calculate Policy Impact Scores\n",
        "policy_scores = {}\n",
        "for ticker, sector in stocks.items():\n",
        "    stock_data = data[ticker]\n",
        "    stock_data[\"Return\"] = np.log(stock_data[\"Adj Close\"] / stock_data[\"Adj Close\"].shift(1))\n",
        "\n",
        "    # Initialize list to collect event scores for this stock\n",
        "    event_scores = []\n",
        "    # We gonna count only major event for each sector and separately consider each sector.\n",
        "    sector_dict = globals().get(sector)\n",
        "    for event_date in sector_dict.keys():\n",
        "        # event windows means the event approximately affect to stock price n days\n",
        "        # Define event window: 5 days before, after, and now\n",
        "        event_window_after = stock_data.loc[event_date:].head(5)[\"Return\"]\n",
        "        event_window_before= stock_data.loc[:event_date].tail(5)[\"Return\"]\n",
        "        event_window_now= stock_data.loc[event_date:event_date][\"Return\"]\n",
        "        event_window= pd.concat([event_window_after, event_window_before,event_window_now])\n",
        "        # Calculate normal return as average return 30 days before the event\n",
        "        normal_window = stock_data.loc[:event_date].tail(30)[\"Return\"]\n",
        "        normal_return = normal_window.mean()\n",
        "\n",
        "        # Calculate abnormal returns and sum absolute values\n",
        "        abnormal_returns = event_window - normal_return\n",
        "        #Assume that weighted factors (w) are the same of all time so, we can put abs to w(beta)\n",
        "        event_sensitivity_score = np.sum(np.abs(abnormal_returns))\n",
        "        event_scores.append(event_sensitivity_score)\n",
        "\n",
        "    # Average sensitivity score across events\n",
        "    policy_scores[ticker] = np.mean(event_scores)\n"
      ],
      "metadata": {
        "id": "nosLeINRXPYd"
      },
      "execution_count": 222,
      "outputs": []
    },
    {
      "cell_type": "code",
      "source": [
        "# Convert to DataFrame for analysis\n",
        "policy_df = pd.DataFrame.from_dict(policy_scores, orient=\"index\", columns=[\"Policy Impact Score\"])\n",
        "policy_df[\"Sector\"] = policy_df.index.map(stocks.get)"
      ],
      "metadata": {
        "id": "YIQ0wGilXYAC"
      },
      "execution_count": 223,
      "outputs": []
    },
    {
      "cell_type": "code",
      "source": [
        "# Group by Sector and calculate average policy impact score for each sector\n",
        "sector_impact = policy_df.groupby(\"Sector\")[\"Policy Impact Score\"].mean()\n",
        "sector_impact = sector_impact.sort_values(ascending=False)"
      ],
      "metadata": {
        "id": "s_eeWCFyXYNQ"
      },
      "execution_count": 224,
      "outputs": []
    },
    {
      "cell_type": "code",
      "source": [
        "# Plot Sector Impact Scores\n",
        "plt.figure(figsize=(10, 6))\n",
        "sector_impact.plot(kind=\"bar\")\n",
        "plt.title(\"Policy Impact Score by Sector (2008-2024)\")\n",
        "plt.xlabel(\"Sector\")\n",
        "plt.ylabel(\"Average Policy Impact Score\")\n",
        "plt.show()"
      ],
      "metadata": {
        "colab": {
          "base_uri": "https://localhost:8080/",
          "height": 720
        },
        "id": "eDo2xHj9XYUP",
        "outputId": "da650943-ca8c-41a3-bf16-4e969d174367"
      },
      "execution_count": 225,
      "outputs": [
        {
          "output_type": "display_data",
          "data": {
            "text/plain": [
              "<Figure size 1000x600 with 1 Axes>"
            ],
            "image/png": "[encoded data removed]"
          },
          "metadata": {}
        }
      ]
    },
    {
      "cell_type": "markdown",
      "source": [
        "# Modeling return for each stock\n",
        "* We assume that a news will affect only stock that's contained in relevant sector\n",
        "$$$$"
      ],
      "metadata": {
        "id": "W1tRixwvG-hf"
      }
    },
    {
      "cell_type": "code",
      "source": [
        "print(data[\"AAPL\"][\"Adj Close\"])"
      ],
      "metadata": {
        "colab": {
          "base_uri": "https://localhost:8080/"
        },
        "id": "zSnv52m_yYMc",
        "outputId": "8d43e8b8-7d80-41ca-ea00-84cc4ebdc490"
      },
      "execution_count": 226,
      "outputs": [
        {
          "output_type": "stream",
          "name": "stdout",
          "text": [
            "Ticker                           AAPL\n",
            "Date                                 \n",
            "2008-01-02 00:00:00+00:00    5.869884\n",
            "2008-01-03 00:00:00+00:00    5.872596\n",
            "2008-01-04 00:00:00+00:00    5.424310\n",
            "2008-01-07 00:00:00+00:00    5.351706\n",
            "2008-01-08 00:00:00+00:00    5.159194\n",
            "...                               ...\n",
            "2024-10-25 00:00:00+00:00  231.155685\n",
            "2024-10-28 00:00:00+00:00  233.143494\n",
            "2024-10-29 00:00:00+00:00  233.413193\n",
            "2024-10-30 00:00:00+00:00  229.847122\n",
            "2024-10-31 00:00:00+00:00  225.661728\n",
            "\n",
            "[4238 rows x 1 columns]\n"
          ]
        }
      ]
    },
    {
      "cell_type": "code",
      "source": [
        "print(stocks.items())"
      ],
      "metadata": {
        "colab": {
          "base_uri": "https://localhost:8080/"
        },
        "id": "8ITYzHHP3uCx",
        "outputId": "2d903c59-fb59-4e59-f1e8-57cfa48fae29"
      },
      "execution_count": 227,
      "outputs": [
        {
          "output_type": "stream",
          "name": "stdout",
          "text": [
            "dict_items([('JPM', 'Financial_Services'), ('GS', 'Financial_Services'), ('AXP', 'Financial_Services'), ('TRV', 'Financial_Services'), ('CVX', 'Energy'), ('AAPL', 'Technology'), ('MSFT', 'Technology'), ('INTC', 'Technology'), ('CSCO', 'Technology'), ('IBM', 'Technology'), ('JNJ', 'Healthcare'), ('MRK', 'Healthcare'), ('AMGN', 'Healthcare'), ('UNH', 'Healthcare'), ('BA', 'Industrials'), ('CAT', 'Industrials'), ('MMM', 'Industrials'), ('HON', 'Industrials'), ('MCD', 'Consumer_Discretionary'), ('NKE', 'Consumer_Discretionary'), ('HD', 'Consumer_Discretionary'), ('DIS', 'Consumer_Discretionary'), ('PG', 'Consumer_Staples'), ('KO', 'Consumer_Staples'), ('WMT', 'Consumer_Staples'), ('VZ', 'Telecommunications')])\n"
          ]
        }
      ]
    },
    {
      "cell_type": "markdown",
      "source": [
        "#Get top5 stocks"
      ],
      "metadata": {
        "id": "qgktLfZOVi-V"
      }
    },
    {
      "cell_type": "code",
      "source": [
        "election_dates = [\"2008-11-04\", \"2012-11-06\",'2016-11-08','2020-11-07']  # Add more election dates if available\n",
        "observation_periods = {\"1M\": 22, \"3M\": 66, \"1Y\": 252}  # Trading days for 1 month, 3 months, 1 year"
      ],
      "metadata": {
        "id": "kiQQ2lcSWus_"
      },
      "execution_count": 228,
      "outputs": []
    },
    {
      "cell_type": "code",
      "source": [
        "import pandas as pd\n",
        "\n",
        "# Calculate ROI for each stock post-election and identify top 5 performers\n",
        "top5_results = []\n",
        "\n",
        "for election_date in election_dates:\n",
        "    for period, days in observation_periods.items():\n",
        "        roi_results = {\"Election Date\": election_date, \"Period\": period}\n",
        "\n",
        "        # Calculate ROI for each stock in the observation period\n",
        "        rois = {}\n",
        "        for ticker, sector_index in stocks.items():\n",
        "                # Convert election_date to a pandas Timestamp object\n",
        "                election_date_ts = pd.Timestamp(election_date)\n",
        "                data[ticker][\"Adj Close\"].index = pd.to_datetime(data[ticker][\"Adj Close\"].index)\n",
        "                election_date_ts = election_date_ts.tz_localize('UTC')\n",
        "\n",
        "                # Calculate ROI for the period after the election\n",
        "                # Use .loc with the Timestamp object\n",
        "                try:\n",
        "                  start_price = data[ticker][\"Adj Close\"].loc[election_date_ts]\n",
        "                except KeyError:\n",
        "                  start_price = data[ticker][\"Adj Close\"].iloc[data[ticker][\"Adj Close\"].index.get_indexer([election_date_ts], method='nearest')[0]]\n",
        "                # Use .loc with the Timestamp object for slicing and .iloc for selecting the specific day\n",
        "                try:\n",
        "                  end_price = data[ticker][\"Adj Close\"].loc[election_date_ts:].iloc[days]\n",
        "                except KeyError:\n",
        "                  end_price = None # Handle cases where there might not be enough data for the specified period\n",
        "\n",
        "\n",
        "\n",
        "                roi = (end_price - start_price)*100 / start_price\n",
        "                rois[ticker] = roi\n",
        "\n",
        "\n",
        "        # Identify top 5 stocks by ROI\n",
        "        top5_stocks=[]\n",
        "        for key in rois:\n",
        "          top5_stocks.append(rois[key])\n",
        "\n",
        "        # Get the top 5 keys\n",
        "        top5_stocks = sorted(top5_stocks, key=lambda x: x[0],reverse=True)\n",
        "        top5_value = top5_stocks[:5]\n",
        "\n",
        "        roi_results[\"Top5 Stocks\"] = top5_value\n",
        "        flattened_data = [x[0] for x in roi_results[\"Top5 Stocks\"] if x is not None]\n",
        "        stock_name=[]\n",
        "        for i in range(5):\n",
        "          for j in list(rois.keys()):\n",
        "            if rois[j].iloc[0]==flattened_data[i]:\n",
        "              stock_name.append(j)\n",
        "        roi_results[\"Top5 Stocks\"] = stock_name\n",
        "        roi_results[\"Top5 Return\"] = flattened_data\n",
        "        top5_results.append(roi_results)\n",
        "\n",
        "\n",
        "# Convert top 5 results to DataFrame for analysis\n",
        "top5_df = pd.DataFrame(top5_results)\n",
        "print(\"Top 5 Stocks by ROI:\")\n",
        "print(top5_df)"
      ],
      "metadata": {
        "colab": {
          "base_uri": "https://localhost:8080/"
        },
        "id": "RqL0Kv36ydSu",
        "outputId": "dbbaf04e-becb-4b14-d952-0d646410d171"
      },
      "execution_count": 229,
      "outputs": [
        {
          "output_type": "stream",
          "name": "stderr",
          "text": [
            "<ipython-input-229-1610500dc14a>:42: FutureWarning: Series.__getitem__ treating keys as positions is deprecated. In a future version, integer keys will always be treated as labels (consistent with DataFrame behavior). To access a value by position, use `ser.iloc[pos]`\n",
            "  top5_stocks = sorted(top5_stocks, key=lambda x: x[0],reverse=True)\n",
            "<ipython-input-229-1610500dc14a>:46: FutureWarning: Series.__getitem__ treating keys as positions is deprecated. In a future version, integer keys will always be treated as labels (consistent with DataFrame behavior). To access a value by position, use `ser.iloc[pos]`\n",
            "  flattened_data = [x[0] for x in roi_results[\"Top5 Stocks\"] if x is not None]\n",
            "<ipython-input-229-1610500dc14a>:42: FutureWarning: Series.__getitem__ treating keys as positions is deprecated. In a future version, integer keys will always be treated as labels (consistent with DataFrame behavior). To access a value by position, use `ser.iloc[pos]`\n",
            "  top5_stocks = sorted(top5_stocks, key=lambda x: x[0],reverse=True)\n",
            "<ipython-input-229-1610500dc14a>:46: FutureWarning: Series.__getitem__ treating keys as positions is deprecated. In a future version, integer keys will always be treated as labels (consistent with DataFrame behavior). To access a value by position, use `ser.iloc[pos]`\n",
            "  flattened_data = [x[0] for x in roi_results[\"Top5 Stocks\"] if x is not None]\n",
            "<ipython-input-229-1610500dc14a>:42: FutureWarning: Series.__getitem__ treating keys as positions is deprecated. In a future version, integer keys will always be treated as labels (consistent with DataFrame behavior). To access a value by position, use `ser.iloc[pos]`\n",
            "  top5_stocks = sorted(top5_stocks, key=lambda x: x[0],reverse=True)\n",
            "<ipython-input-229-1610500dc14a>:46: FutureWarning: Series.__getitem__ treating keys as positions is deprecated. In a future version, integer keys will always be treated as labels (consistent with DataFrame behavior). To access a value by position, use `ser.iloc[pos]`\n",
            "  flattened_data = [x[0] for x in roi_results[\"Top5 Stocks\"] if x is not None]\n",
            "<ipython-input-229-1610500dc14a>:42: FutureWarning: Series.__getitem__ treating keys as positions is deprecated. In a future version, integer keys will always be treated as labels (consistent with DataFrame behavior). To access a value by position, use `ser.iloc[pos]`\n",
            "  top5_stocks = sorted(top5_stocks, key=lambda x: x[0],reverse=True)\n",
            "<ipython-input-229-1610500dc14a>:46: FutureWarning: Series.__getitem__ treating keys as positions is deprecated. In a future version, integer keys will always be treated as labels (consistent with DataFrame behavior). To access a value by position, use `ser.iloc[pos]`\n",
            "  flattened_data = [x[0] for x in roi_results[\"Top5 Stocks\"] if x is not None]\n",
            "<ipython-input-229-1610500dc14a>:42: FutureWarning: Series.__getitem__ treating keys as positions is deprecated. In a future version, integer keys will always be treated as labels (consistent with DataFrame behavior). To access a value by position, use `ser.iloc[pos]`\n",
            "  top5_stocks = sorted(top5_stocks, key=lambda x: x[0],reverse=True)\n",
            "<ipython-input-229-1610500dc14a>:46: FutureWarning: Series.__getitem__ treating keys as positions is deprecated. In a future version, integer keys will always be treated as labels (consistent with DataFrame behavior). To access a value by position, use `ser.iloc[pos]`\n",
            "  flattened_data = [x[0] for x in roi_results[\"Top5 Stocks\"] if x is not None]\n",
            "<ipython-input-229-1610500dc14a>:42: FutureWarning: Series.__getitem__ treating keys as positions is deprecated. In a future version, integer keys will always be treated as labels (consistent with DataFrame behavior). To access a value by position, use `ser.iloc[pos]`\n",
            "  top5_stocks = sorted(top5_stocks, key=lambda x: x[0],reverse=True)\n",
            "<ipython-input-229-1610500dc14a>:46: FutureWarning: Series.__getitem__ treating keys as positions is deprecated. In a future version, integer keys will always be treated as labels (consistent with DataFrame behavior). To access a value by position, use `ser.iloc[pos]`\n",
            "  flattened_data = [x[0] for x in roi_results[\"Top5 Stocks\"] if x is not None]\n",
            "<ipython-input-229-1610500dc14a>:42: FutureWarning: Series.__getitem__ treating keys as positions is deprecated. In a future version, integer keys will always be treated as labels (consistent with DataFrame behavior). To access a value by position, use `ser.iloc[pos]`\n",
            "  top5_stocks = sorted(top5_stocks, key=lambda x: x[0],reverse=True)\n",
            "<ipython-input-229-1610500dc14a>:46: FutureWarning: Series.__getitem__ treating keys as positions is deprecated. In a future version, integer keys will always be treated as labels (consistent with DataFrame behavior). To access a value by position, use `ser.iloc[pos]`\n",
            "  flattened_data = [x[0] for x in roi_results[\"Top5 Stocks\"] if x is not None]\n",
            "<ipython-input-229-1610500dc14a>:42: FutureWarning: Series.__getitem__ treating keys as positions is deprecated. In a future version, integer keys will always be treated as labels (consistent with DataFrame behavior). To access a value by position, use `ser.iloc[pos]`\n",
            "  top5_stocks = sorted(top5_stocks, key=lambda x: x[0],reverse=True)\n",
            "<ipython-input-229-1610500dc14a>:46: FutureWarning: Series.__getitem__ treating keys as positions is deprecated. In a future version, integer keys will always be treated as labels (consistent with DataFrame behavior). To access a value by position, use `ser.iloc[pos]`\n",
            "  flattened_data = [x[0] for x in roi_results[\"Top5 Stocks\"] if x is not None]\n",
            "<ipython-input-229-1610500dc14a>:42: FutureWarning: Series.__getitem__ treating keys as positions is deprecated. In a future version, integer keys will always be treated as labels (consistent with DataFrame behavior). To access a value by position, use `ser.iloc[pos]`\n",
            "  top5_stocks = sorted(top5_stocks, key=lambda x: x[0],reverse=True)\n",
            "<ipython-input-229-1610500dc14a>:46: FutureWarning: Series.__getitem__ treating keys as positions is deprecated. In a future version, integer keys will always be treated as labels (consistent with DataFrame behavior). To access a value by position, use `ser.iloc[pos]`\n",
            "  flattened_data = [x[0] for x in roi_results[\"Top5 Stocks\"] if x is not None]\n",
            "<ipython-input-229-1610500dc14a>:42: FutureWarning: Series.__getitem__ treating keys as positions is deprecated. In a future version, integer keys will always be treated as labels (consistent with DataFrame behavior). To access a value by position, use `ser.iloc[pos]`\n",
            "  top5_stocks = sorted(top5_stocks, key=lambda x: x[0],reverse=True)\n",
            "<ipython-input-229-1610500dc14a>:46: FutureWarning: Series.__getitem__ treating keys as positions is deprecated. In a future version, integer keys will always be treated as labels (consistent with DataFrame behavior). To access a value by position, use `ser.iloc[pos]`\n",
            "  flattened_data = [x[0] for x in roi_results[\"Top5 Stocks\"] if x is not None]\n",
            "<ipython-input-229-1610500dc14a>:42: FutureWarning: Series.__getitem__ treating keys as positions is deprecated. In a future version, integer keys will always be treated as labels (consistent with DataFrame behavior). To access a value by position, use `ser.iloc[pos]`\n",
            "  top5_stocks = sorted(top5_stocks, key=lambda x: x[0],reverse=True)\n",
            "<ipython-input-229-1610500dc14a>:46: FutureWarning: Series.__getitem__ treating keys as positions is deprecated. In a future version, integer keys will always be treated as labels (consistent with DataFrame behavior). To access a value by position, use `ser.iloc[pos]`\n",
            "  flattened_data = [x[0] for x in roi_results[\"Top5 Stocks\"] if x is not None]\n"
          ]
        },
        {
          "output_type": "stream",
          "name": "stdout",
          "text": [
            "Top 5 Stocks by ROI:\n",
            "   Election Date Period                 Top5 Stocks  \\\n",
            "0     2008-11-04     1M     [MCD, HD, WMT, TRV, VZ]   \n",
            "1     2008-11-04     3M    [UNH, IBM, MCD, HON, HD]   \n",
            "2     2008-11-04     1Y  [GS, AAPL, CAT, IBM, CSCO]   \n",
            "3     2012-11-06     1M    [CSCO, TRV, BA, HD, NKE]   \n",
            "4     2012-11-06     3M   [GS, CSCO, JPM, NKE, MMM]   \n",
            "5     2012-11-06     1Y    [BA, NKE, AXP, MMM, HON]   \n",
            "6     2016-11-08     1M    [GS, JPM, CAT, UNH, DIS]   \n",
            "7     2016-11-08     3M   [GS, JPM, AMGN, AAPL, BA]   \n",
            "8     2016-11-08     1Y   [BA, CAT, AAPL, MCD, UNH]   \n",
            "9     2020-11-07     1M     [BA, CVX, AXP, GS, DIS]   \n",
            "10    2020-11-07     3M    [GS, DIS, JPM, INTC, BA]   \n",
            "11    2020-11-07     1Y   [GS, AXP, CVX, JPM, CSCO]   \n",
            "\n",
            "                                          Top5 Return  \n",
            "0   [9.513555475959322, 5.4365373516184965, 3.7056...  \n",
            "1   [22.567855566926102, 0.9653589596763875, 0.014...  \n",
            "2   [80.24519169512475, 71.91634988742403, 38.9448...  \n",
            "3   [11.45942850616575, 5.243087864834952, 4.27491...  \n",
            "4   [22.584916451867958, 20.853362372267288, 15.38...  \n",
            "5   [89.63317828629137, 62.08860192688774, 45.4014...  \n",
            "6   [33.35515294197422, 22.076280969959715, 12.812...  \n",
            "7   [37.551308547011345, 28.595707056302103, 23.04...  \n",
            "8   [90.9386197229687, 67.01123208863272, 60.66332...  \n",
            "9   [48.61796913398781, 33.13223473868736, 26.0109...  \n",
            "10  [55.84834646921683, 46.2027351614961, 41.50321...  \n",
            "11  [104.97717579202471, 88.18573718797742, 72.116...  \n"
          ]
        },
        {
          "output_type": "stream",
          "name": "stderr",
          "text": [
            "<ipython-input-229-1610500dc14a>:42: FutureWarning: Series.__getitem__ treating keys as positions is deprecated. In a future version, integer keys will always be treated as labels (consistent with DataFrame behavior). To access a value by position, use `ser.iloc[pos]`\n",
            "  top5_stocks = sorted(top5_stocks, key=lambda x: x[0],reverse=True)\n",
            "<ipython-input-229-1610500dc14a>:46: FutureWarning: Series.__getitem__ treating keys as positions is deprecated. In a future version, integer keys will always be treated as labels (consistent with DataFrame behavior). To access a value by position, use `ser.iloc[pos]`\n",
            "  flattened_data = [x[0] for x in roi_results[\"Top5 Stocks\"] if x is not None]\n"
          ]
        }
      ]
    },
    {
      "cell_type": "code",
      "source": [
        "print(data[\"JPM\"])"
      ],
      "metadata": {
        "colab": {
          "base_uri": "https://localhost:8080/"
        },
        "id": "8oz5AkZe7ILD",
        "outputId": "01558a59-a503-4343-8ce6-0d49ee2fe57a"
      },
      "execution_count": 230,
      "outputs": [
        {
          "output_type": "stream",
          "name": "stdout",
          "text": [
            "Price                       Adj Close       Close        High         Low  \\\n",
            "Ticker                            JPM         JPM         JPM         JPM   \n",
            "Date                                                                        \n",
            "2008-01-02 00:00:00+00:00   27.438890   42.169998   43.790001   42.000000   \n",
            "2008-01-03 00:00:00+00:00   27.250204   41.880001   42.650002   41.759998   \n",
            "2008-01-04 00:00:00+00:00   26.632059   40.930000   41.799999   40.630001   \n",
            "2008-01-07 00:00:00+00:00   26.898830   41.340000   41.580002   40.160000   \n",
            "2008-01-08 00:00:00+00:00   25.831734   39.700001   41.580002   39.419998   \n",
            "...                               ...         ...         ...         ...   \n",
            "2024-10-25 00:00:00+00:00  222.309998  222.309998  225.619995  220.880005   \n",
            "2024-10-28 00:00:00+00:00  225.500000  225.500000  225.639999  222.949997   \n",
            "2024-10-29 00:00:00+00:00  222.899994  222.899994  226.750000  222.809998   \n",
            "2024-10-30 00:00:00+00:00  224.410004  224.410004  226.309998  221.580002   \n",
            "2024-10-31 00:00:00+00:00  221.919998  221.919998  225.690002  221.820007   \n",
            "\n",
            "Price                            Open    Volume    Return  \n",
            "Ticker                            JPM       JPM            \n",
            "Date                                                       \n",
            "2008-01-02 00:00:00+00:00   43.549999  22122300       NaN  \n",
            "2008-01-03 00:00:00+00:00   42.340000  17150700 -0.006900  \n",
            "2008-01-04 00:00:00+00:00   41.410000  25873800 -0.022945  \n",
            "2008-01-07 00:00:00+00:00   41.099998  25644100  0.009967  \n",
            "2008-01-08 00:00:00+00:00   41.459999  33646000 -0.040479  \n",
            "...                               ...       ...       ...  \n",
            "2024-10-25 00:00:00+00:00  225.000000   6369700 -0.011939  \n",
            "2024-10-28 00:00:00+00:00  223.350006   6843000  0.014247  \n",
            "2024-10-29 00:00:00+00:00  225.210007   6580000 -0.011597  \n",
            "2024-10-30 00:00:00+00:00  222.539993   7110900  0.006752  \n",
            "2024-10-31 00:00:00+00:00  224.699997   7829900 -0.011158  \n",
            "\n",
            "[4238 rows x 7 columns]\n"
          ]
        }
      ]
    },
    {
      "cell_type": "markdown",
      "source": [
        "# Get market data"
      ],
      "metadata": {
        "id": "G6gw9ToL0Xpk"
      }
    },
    {
      "cell_type": "code",
      "source": [
        "sector_list= {\n",
        "    \"JPM\": \"XLF\",  # Financial Services\n",
        "    \"GS\": \"XLF\",   # Financial Services\n",
        "    \"AXP\": \"XLF\",  # Financial Services\n",
        "    \"TRV\": \"XLF\",  # Financial Services\n",
        "    \"CVX\": \"XLE\",  # Energy\n",
        "    \"AAPL\": \"XLK\", # Technology\n",
        "    \"MSFT\": \"XLK\", # Technology\n",
        "    \"INTC\": \"XLK\", # Technology\n",
        "    \"CSCO\": \"XLK\", # Technology\n",
        "    \"IBM\": \"XLK\",  # Technology\n",
        "    \"JNJ\": \"XLV\",  # Healthcare\n",
        "    \"MRK\": \"XLV\",  # Healthcare\n",
        "    \"AMGN\": \"XLV\", # Healthcare\n",
        "    \"UNH\": \"XLV\",  # Healthcare\n",
        "    \"BA\": \"XLI\",   # Industrials\n",
        "    \"CAT\": \"XLI\",  # Industrials\n",
        "    \"MMM\": \"XLI\",  # Industrials\n",
        "    \"HON\": \"XLI\",  # Industrials\n",
        "    \"MCD\": \"XLY\",  # Consumer Discretionary\n",
        "    \"NKE\": \"XLY\",  # Consumer Discretionary\n",
        "    \"HD\": \"XLY\",   # Consumer Discretionary\n",
        "    \"DIS\": \"XLY\",  # Consumer Discretionary\n",
        "    \"PG\": \"XLP\",   # Consumer Staples\n",
        "    \"KO\": \"XLP\",   # Consumer Staples\n",
        "    \"WMT\": \"XLP\",  # Consumer Staples\n",
        "    \"VZ\": \"XLC\",   # Telecommunications\n",
        "}"
      ],
      "metadata": {
        "id": "eN1kiZZd2GJ8"
      },
      "execution_count": 231,
      "outputs": []
    },
    {
      "cell_type": "code",
      "source": [
        "data_sector[\"XLF\"][\"Adj Close\"].iloc[21]"
      ],
      "metadata": {
        "colab": {
          "base_uri": "https://localhost:8080/",
          "height": 147
        },
        "id": "lBPiLMcY8-Jv",
        "outputId": "63d64f83-463e-479a-c257-513b4f8d5acb"
      },
      "execution_count": 232,
      "outputs": [
        {
          "output_type": "execute_result",
          "data": {
            "text/plain": [
              "Ticker\n",
              "XLF    17.360115\n",
              "Name: 2008-02-01 00:00:00+00:00, dtype: float64"
            ],
            "text/html": [
              "<div>\n",
              "<style scoped>\n",
              "    .dataframe tbody tr th:only-of-type {\n",
              "        vertical-align: middle;\n",
              "    }\n",
              "\n",
              "    .dataframe tbody tr th {\n",
              "        vertical-align: top;\n",
              "    }\n",
              "\n",
              "    .dataframe thead th {\n",
              "        text-align: right;\n",
              "    }\n",
              "</style>\n",
              "<table border=\"1\" class=\"dataframe\">\n",
              "  <thead>\n",
              "    <tr style=\"text-align: right;\">\n",
              "      <th></th>\n",
              "      <th>2008-02-01 00:00:00+00:00</th>\n",
              "    </tr>\n",
              "    <tr>\n",
              "      <th>Ticker</th>\n",
              "      <th></th>\n",
              "    </tr>\n",
              "  </thead>\n",
              "  <tbody>\n",
              "    <tr>\n",
              "      <th>XLF</th>\n",
              "      <td>17.360115</td>\n",
              "    </tr>\n",
              "  </tbody>\n",
              "</table>\n",
              "</div><br><label><b>dtype:</b> float64</label>"
            ]
          },
          "metadata": {},
          "execution_count": 232
        }
      ]
    },
    {
      "cell_type": "code",
      "source": [
        "filtered_sector_comparison_results=[]"
      ],
      "metadata": {
        "id": "9jTxXgrgytNw"
      },
      "execution_count": 233,
      "outputs": []
    },
    {
      "cell_type": "code",
      "source": [
        "for roi_result in top5_results:\n",
        "    election_date = roi_result[\"Election Date\"]\n",
        "    period = roi_result[\"Period\"]\n",
        "    top5_stocks = roi_result[\"Top5 Stocks\"]\n",
        "    top5_returns = roi_result[\"Top5 Return\"]\n",
        "\n",
        "    # Loop through Top 5 stocks\n",
        "    for stock, stock_return in zip(top5_stocks, top5_returns):\n",
        "        # Find the sector of the stock\n",
        "        sector = sector_list.get(stock, None)\n",
        "        if sector:\n",
        "          election_date_ts = pd.Timestamp(election_date)\n",
        "          data_sector[sector][\"Adj Close\"].index = pd.to_datetime(data_sector[sector][\"Adj Close\"].index)\n",
        "          election_date_ts = election_date_ts.tz_localize('UTC')\n",
        "          # Calculate ROI for the period after the election\n",
        "          # Use .loc with the Timestamp object\n",
        "          try:\n",
        "            sector_start_price = data_sector[sector][\"Adj Close\"].loc[election_date_ts]\n",
        "          except KeyError:\n",
        "            sector_start_price = data_sector[sector][\"Adj Close\"].iloc[data_sector[sector][\"Adj Close\"].index.get_indexer([election_date_ts], method='nearest')[0]]\n",
        "                      # Use .loc with the Timestamp object for slicing and .iloc for selecting the specific day\n",
        "          try:\n",
        "            sector_end_price = data_sector[sector][\"Adj Close\"].loc[election_date_ts:].iloc[days]\n",
        "          except KeyError:\n",
        "            sector_end_price = None # Handle cases where there might not be enough data for the specified period\n",
        "          sector_roi = (sector_end_price - sector_start_price)*100 / sector_start_price\n",
        "          sector_return = sector_roi\n",
        "\n",
        "\n",
        "          # Ensure election_date_ts aligns with data index\n",
        "          election_date_ts = pd.Timestamp(election_date)\n",
        "          data_sector[sector][\"Adj Close\"].index = pd.to_datetime(data_sector[sector][\"Adj Close\"].index)\n",
        "\n",
        "          # Get sector start price\n",
        "          sector_start_price = data_sector[sector][\"Adj Close\"].iloc[data_sector[sector][\"Adj Close\"].index==election_date]\n",
        "          sector_end_price = data_sector[sector][\"Adj Close\"].iloc[21]\n",
        "          sector_return = (sector_end_price - sector_start_price) * 100 / sector_start_price\n",
        "          # Add the result to the filtered list\n",
        "          filtered_sector_comparison_results.append({\"Election Date\": election_date,\"Period\": period,\"Stock\": stock,\"Stock Return (%)\": stock_return,\"Sector\": sector,\"Sector Return (%)\": sector_return})\n"
      ],
      "metadata": {
        "id": "ivRlIl3pDmQ_"
      },
      "execution_count": 242,
      "outputs": []
    },
    {
      "cell_type": "code",
      "source": [
        "print(pd.DataFrame(filtered_sector_comparison_results).head(100))"
      ],
      "metadata": {
        "colab": {
          "base_uri": "https://localhost:8080/"
        },
        "id": "N07h-sU6MCZU",
        "outputId": "a7b8c74c-12d5-4251-a7ad-9dedcd8ce503"
      },
      "execution_count": 244,
      "outputs": [
        {
          "output_type": "stream",
          "name": "stdout",
          "text": [
            "   Election Date Period Stock  Stock Return (%) Sector  \\\n",
            "0     2008-11-04     1M   MCD          9.513555    XLY   \n",
            "1     2008-11-04     1M    HD          5.436537    XLY   \n",
            "2     2008-11-04     1M   WMT          3.705699    XLP   \n",
            "3     2008-11-04     1M   TRV          1.901418    XLF   \n",
            "4     2008-11-04     1M    VZ          1.778598    XLC   \n",
            "..           ...    ...   ...               ...    ...   \n",
            "95    2016-11-08     1M   JPM         22.076281    XLF   \n",
            "96    2016-11-08     1M   CAT         12.812966    XLI   \n",
            "97    2016-11-08     1M   UNH         12.496550    XLV   \n",
            "98    2016-11-08     1M   DIS         11.960315    XLY   \n",
            "99    2016-11-08     3M    GS         37.551309    XLF   \n",
            "\n",
            "                                    Sector Return (%)  \n",
            "0   Ticker                           XLY\n",
            "Date     ...  \n",
            "1   Ticker                           XLY\n",
            "Date     ...  \n",
            "2   Ticker                          XLP\n",
            "Date      ...  \n",
            "3   Ticker                           XLF\n",
            "Date     ...  \n",
            "4            Empty DataFrame\n",
            "Columns: [XLC]\n",
            "Index: []  \n",
            "..                                                ...  \n",
            "95  Ticker                          XLF\n",
            "Date      ...  \n",
            "96  Ticker                           XLI\n",
            "Date     ...  \n",
            "97  Ticker                           XLV\n",
            "Date     ...  \n",
            "98  Ticker                          XLY\n",
            "Date      ...  \n",
            "99  Ticker                          XLF\n",
            "Date      ...  \n",
            "\n",
            "[100 rows x 6 columns]\n"
          ]
        }
      ]
    },
    {
      "cell_type": "code",
      "source": [
        "# For each election date, compare Top 5 stock performance to their sectors\n",
        "sector_comparison_results = []\n",
        "\n",
        "for roi_result in top5_results:\n",
        "    election_date = roi_result[\"Election Date\"]\n",
        "    period = roi_result[\"Period\"]\n",
        "    top5_stocks = roi_result[\"Top5 Stocks\"]\n",
        "    top5_returns = roi_result[\"Top5 Return\"]\n",
        "\n",
        "    # Initialize comparison results\n",
        "    sector_comparisons = []\n",
        "\n",
        "    for stock, stock_return in zip(top5_stocks, top5_returns):\n",
        "        # Find the sector of the stock\n",
        "        sector = sector_list.get(stock, None)\n",
        "        if sector:\n",
        "            # Calculate sector return for the observation period\n",
        "            try:\n",
        "                sector_start_price = data[sector][\"Adj Close\"].loc[election_date_ts]\n",
        "                sector_end_price = data[sector][\"Adj Close\"].loc[election_date_ts:].iloc[observation_periods[period]]\n",
        "                sector_return = (sector_end_price - sector_start_price) * 100 / sector_start_price\n",
        "            except KeyError:\n",
        "                sector_return = None  # Handle missing data\n",
        "\n",
        "            # Store the comparison\n",
        "            sector_comparisons.append({\n",
        "                \"Stock\": stock,\n",
        "                \"Stock Return\": stock_return,\n",
        "                \"Sector\": sector,\n",
        "                \"Sector Return\": sector_return,\n",
        "                \"Period\": period,\n",
        "                \"Election Date\": election_date\n",
        "            })\n",
        "\n",
        "    # Append the results for this election date and period\n",
        "    sector_comparison_results.extend(sector_comparisons)\n",
        "\n",
        "# Convert the comparisons to a DataFrame\n",
        "sector_comparison_df = pd.DataFrame(sector_comparison_results)\n",
        "print(\"Sector Comparison Results:\")\n",
        "print(sector_comparison_df)\n",
        "\n",
        "# Save for further analysis\n",
        "sector_comparison_df.to_csv(\"sector_comparison_results.csv\", index=False)\n"
      ],
      "metadata": {
        "colab": {
          "base_uri": "https://localhost:8080/"
        },
        "id": "lWuYTpGxBuJV",
        "outputId": "2bbf8726-4f39-4e20-c12a-0b6122456308"
      },
      "execution_count": 236,
      "outputs": [
        {
          "output_type": "stream",
          "name": "stdout",
          "text": [
            "Sector Comparison Results:\n",
            "   Stock  Stock Return Sector Sector Return Period Election Date\n",
            "0    MCD      9.513555    XLY          None     1M    2008-11-04\n",
            "1     HD      5.436537    XLY          None     1M    2008-11-04\n",
            "2    WMT      3.705699    XLP          None     1M    2008-11-04\n",
            "3    TRV      1.901418    XLF          None     1M    2008-11-04\n",
            "4     VZ      1.778598    XLC          None     1M    2008-11-04\n",
            "5    UNH     22.567856    XLV          None     3M    2008-11-04\n",
            "6    IBM      0.965359    XLK          None     3M    2008-11-04\n",
            "7    MCD      0.014871    XLY          None     3M    2008-11-04\n",
            "8    HON     -1.500907    XLI          None     3M    2008-11-04\n",
            "9     HD     -4.026797    XLY          None     3M    2008-11-04\n",
            "10    GS     80.245192    XLF          None     1Y    2008-11-04\n",
            "11  AAPL     71.916350    XLK          None     1Y    2008-11-04\n",
            "12   CAT     38.944871    XLI          None     1Y    2008-11-04\n",
            "13   IBM     32.598633    XLK          None     1Y    2008-11-04\n",
            "14  CSCO     27.059520    XLK          None     1Y    2008-11-04\n",
            "15  CSCO     11.459429    XLK          None     1M    2012-11-06\n",
            "16   TRV      5.243088    XLF          None     1M    2012-11-06\n",
            "17    BA      4.274917    XLI          None     1M    2012-11-06\n",
            "18    HD      3.386004    XLY          None     1M    2012-11-06\n",
            "19   NKE      3.001933    XLY          None     1M    2012-11-06\n",
            "20    GS     22.584916    XLF          None     3M    2012-11-06\n",
            "21  CSCO     20.853362    XLK          None     3M    2012-11-06\n",
            "22   JPM     15.386111    XLF          None     3M    2012-11-06\n",
            "23   NKE     15.110596    XLY          None     3M    2012-11-06\n",
            "24   MMM     14.622535    XLI          None     3M    2012-11-06\n",
            "25    BA     89.633178    XLI          None     1Y    2012-11-06\n",
            "26   NKE     62.088602    XLY          None     1Y    2012-11-06\n",
            "27   AXP     45.401452    XLF          None     1Y    2012-11-06\n",
            "28   MMM     43.312600    XLI          None     1Y    2012-11-06\n",
            "29   HON     39.669570    XLI          None     1Y    2012-11-06\n",
            "30    GS     33.355153    XLF          None     1M    2016-11-08\n",
            "31   JPM     22.076281    XLF          None     1M    2016-11-08\n",
            "32   CAT     12.812966    XLI          None     1M    2016-11-08\n",
            "33   UNH     12.496550    XLV          None     1M    2016-11-08\n",
            "34   DIS     11.960315    XLY          None     1M    2016-11-08\n",
            "35    GS     37.551309    XLF          None     3M    2016-11-08\n",
            "36   JPM     28.595707    XLF          None     3M    2016-11-08\n",
            "37  AMGN     23.042244    XLV          None     3M    2016-11-08\n",
            "38  AAPL     22.101015    XLK          None     3M    2016-11-08\n",
            "39    BA     19.514329    XLI          None     3M    2016-11-08\n",
            "40    BA     90.938620    XLI          None     1Y    2016-11-08\n",
            "41   CAT     67.011232    XLI          None     1Y    2016-11-08\n",
            "42  AAPL     60.663326    XLK          None     1Y    2016-11-08\n",
            "43   MCD     53.183724    XLY          None     1Y    2016-11-08\n",
            "44   UNH     49.814212    XLV          None     1Y    2016-11-08\n",
            "45    BA     48.617969    XLI          None     1M    2020-11-07\n",
            "46   CVX     33.132235    XLE          None     1M    2020-11-07\n",
            "47   AXP     26.010959    XLF          None     1M    2020-11-07\n",
            "48    GS     22.096855    XLF          None     1M    2020-11-07\n",
            "49   DIS     21.363570    XLY          None     1M    2020-11-07\n",
            "50    GS     55.848346    XLF          None     3M    2020-11-07\n",
            "51   DIS     46.202735    XLY          None     3M    2020-11-07\n",
            "52   JPM     41.503217    XLF          None     3M    2020-11-07\n",
            "53  INTC     38.464847    XLK          None     3M    2020-11-07\n",
            "54    BA     37.682253    XLI          None     3M    2020-11-07\n",
            "55    GS    104.977176    XLF          None     1Y    2020-11-07\n",
            "56   AXP     88.185737    XLF          None     1Y    2020-11-07\n",
            "57   CVX     72.116603    XLE          None     1Y    2020-11-07\n",
            "58   JPM     67.048679    XLF          None     1Y    2020-11-07\n",
            "59  CSCO     57.538808    XLK          None     1Y    2020-11-07\n"
          ]
        }
      ]
    },
    {
      "cell_type": "code",
      "source": [
        "import matplotlib.pyplot as plt\n",
        "\n",
        "# Plot stock vs sector performance for each period\n",
        "for period in observation_periods.keys():\n",
        "    period_data = sector_comparison_df[sector_comparison_df[\"Period\"] == period]\n",
        "    plt.figure(figsize=(10, 6))\n",
        "    plt.bar(period_data[\"Stock\"], period_data[\"Stock Return\"], label=\"Stock Return\", alpha=0.7)\n",
        "    plt.bar(period_data[\"Stock\"], period_data[\"Sector Return\"], label=\"Sector Return\", alpha=0.5)\n",
        "    plt.title(f\"Stock vs Sector Performance - {period} Post Election\")\n",
        "    plt.xlabel(\"Stock\")\n",
        "    plt.ylabel(\"Return (%)\")\n",
        "    plt.legend()\n",
        "    plt.xticks(rotation=45)\n",
        "    plt.tight_layout()\n",
        "    plt.show()\n"
      ],
      "metadata": {
        "colab": {
          "base_uri": "https://localhost:8080/",
          "height": 861
        },
        "id": "sn8PZItGBvWn",
        "outputId": "b15ace54-229e-4014-83be-562b43aab71e"
      },
      "execution_count": 237,
      "outputs": [
        {
          "output_type": "error",
          "ename": "TypeError",
          "evalue": "unsupported operand type(s) for +: 'int' and 'NoneType'",
          "traceback": [
            "\u001b[0;31m---------------------------------------------------------------------------\u001b[0m",
            "\u001b[0;31mTypeError\u001b[0m                                 Traceback (most recent call last)",
            "\u001b[0;32m<ipython-input-237-e8675792a8ac>\u001b[0m in \u001b[0;36m<cell line: 4>\u001b[0;34m()\u001b[0m\n\u001b[1;32m      6\u001b[0m     \u001b[0mplt\u001b[0m\u001b[0;34m.\u001b[0m\u001b[0mfigure\u001b[0m\u001b[0;34m(\u001b[0m\u001b[0mfigsize\u001b[0m\u001b[0;34m=\u001b[0m\u001b[0;34m(\u001b[0m\u001b[0;36m10\u001b[0m\u001b[0;34m,\u001b[0m \u001b[0;36m6\u001b[0m\u001b[0;34m)\u001b[0m\u001b[0;34m)\u001b[0m\u001b[0;34m\u001b[0m\u001b[0;34m\u001b[0m\u001b[0m\n\u001b[1;32m      7\u001b[0m     \u001b[0mplt\u001b[0m\u001b[0;34m.\u001b[0m\u001b[0mbar\u001b[0m\u001b[0;34m(\u001b[0m\u001b[0mperiod_data\u001b[0m\u001b[0;34m[\u001b[0m\u001b[0;34m\"Stock\"\u001b[0m\u001b[0;34m]\u001b[0m\u001b[0;34m,\u001b[0m \u001b[0mperiod_data\u001b[0m\u001b[0;34m[\u001b[0m\u001b[0;34m\"Stock Return\"\u001b[0m\u001b[0;34m]\u001b[0m\u001b[0;34m,\u001b[0m \u001b[0mlabel\u001b[0m\u001b[0;34m=\u001b[0m\u001b[0;34m\"Stock Return\"\u001b[0m\u001b[0;34m,\u001b[0m \u001b[0malpha\u001b[0m\u001b[0;34m=\u001b[0m\u001b[0;36m0.7\u001b[0m\u001b[0;34m)\u001b[0m\u001b[0;34m\u001b[0m\u001b[0;34m\u001b[0m\u001b[0m\n\u001b[0;32m----> 8\u001b[0;31m     \u001b[0mplt\u001b[0m\u001b[0;34m.\u001b[0m\u001b[0mbar\u001b[0m\u001b[0;34m(\u001b[0m\u001b[0mperiod_data\u001b[0m\u001b[0;34m[\u001b[0m\u001b[0;34m\"Stock\"\u001b[0m\u001b[0;34m]\u001b[0m\u001b[0;34m,\u001b[0m \u001b[0mperiod_data\u001b[0m\u001b[0;34m[\u001b[0m\u001b[0;34m\"Sector Return\"\u001b[0m\u001b[0;34m]\u001b[0m\u001b[0;34m,\u001b[0m \u001b[0mlabel\u001b[0m\u001b[0;34m=\u001b[0m\u001b[0;34m\"Sector Return\"\u001b[0m\u001b[0;34m,\u001b[0m \u001b[0malpha\u001b[0m\u001b[0;34m=\u001b[0m\u001b[0;36m0.5\u001b[0m\u001b[0;34m)\u001b[0m\u001b[0;34m\u001b[0m\u001b[0;34m\u001b[0m\u001b[0m\n\u001b[0m\u001b[1;32m      9\u001b[0m     \u001b[0mplt\u001b[0m\u001b[0;34m.\u001b[0m\u001b[0mtitle\u001b[0m\u001b[0;34m(\u001b[0m\u001b[0;34mf\"Stock vs Sector Performance - {period} Post Election\"\u001b[0m\u001b[0;34m)\u001b[0m\u001b[0;34m\u001b[0m\u001b[0;34m\u001b[0m\u001b[0m\n\u001b[1;32m     10\u001b[0m     \u001b[0mplt\u001b[0m\u001b[0;34m.\u001b[0m\u001b[0mxlabel\u001b[0m\u001b[0;34m(\u001b[0m\u001b[0;34m\"Stock\"\u001b[0m\u001b[0;34m)\u001b[0m\u001b[0;34m\u001b[0m\u001b[0;34m\u001b[0m\u001b[0m\n",
            "\u001b[0;32m/usr/local/lib/python3.10/dist-packages/matplotlib/pyplot.py\u001b[0m in \u001b[0;36mbar\u001b[0;34m(x, height, width, bottom, align, data, **kwargs)\u001b[0m\n\u001b[1;32m   2740\u001b[0m     \u001b[0;34m**\u001b[0m\u001b[0mkwargs\u001b[0m\u001b[0;34m,\u001b[0m\u001b[0;34m\u001b[0m\u001b[0;34m\u001b[0m\u001b[0m\n\u001b[1;32m   2741\u001b[0m ) -> BarContainer:\n\u001b[0;32m-> 2742\u001b[0;31m     return gca().bar(\n\u001b[0m\u001b[1;32m   2743\u001b[0m         \u001b[0mx\u001b[0m\u001b[0;34m,\u001b[0m\u001b[0;34m\u001b[0m\u001b[0;34m\u001b[0m\u001b[0m\n\u001b[1;32m   2744\u001b[0m         \u001b[0mheight\u001b[0m\u001b[0;34m,\u001b[0m\u001b[0;34m\u001b[0m\u001b[0;34m\u001b[0m\u001b[0m\n",
            "\u001b[0;32m/usr/local/lib/python3.10/dist-packages/matplotlib/__init__.py\u001b[0m in \u001b[0;36minner\u001b[0;34m(ax, data, *args, **kwargs)\u001b[0m\n\u001b[1;32m   1463\u001b[0m     \u001b[0;32mdef\u001b[0m \u001b[0minner\u001b[0m\u001b[0;34m(\u001b[0m\u001b[0max\u001b[0m\u001b[0;34m,\u001b[0m \u001b[0;34m*\u001b[0m\u001b[0margs\u001b[0m\u001b[0;34m,\u001b[0m \u001b[0mdata\u001b[0m\u001b[0;34m=\u001b[0m\u001b[0;32mNone\u001b[0m\u001b[0;34m,\u001b[0m \u001b[0;34m**\u001b[0m\u001b[0mkwargs\u001b[0m\u001b[0;34m)\u001b[0m\u001b[0;34m:\u001b[0m\u001b[0;34m\u001b[0m\u001b[0;34m\u001b[0m\u001b[0m\n\u001b[1;32m   1464\u001b[0m         \u001b[0;32mif\u001b[0m \u001b[0mdata\u001b[0m \u001b[0;32mis\u001b[0m \u001b[0;32mNone\u001b[0m\u001b[0;34m:\u001b[0m\u001b[0;34m\u001b[0m\u001b[0;34m\u001b[0m\u001b[0m\n\u001b[0;32m-> 1465\u001b[0;31m             \u001b[0;32mreturn\u001b[0m \u001b[0mfunc\u001b[0m\u001b[0;34m(\u001b[0m\u001b[0max\u001b[0m\u001b[0;34m,\u001b[0m \u001b[0;34m*\u001b[0m\u001b[0mmap\u001b[0m\u001b[0;34m(\u001b[0m\u001b[0msanitize_sequence\u001b[0m\u001b[0;34m,\u001b[0m \u001b[0margs\u001b[0m\u001b[0;34m)\u001b[0m\u001b[0;34m,\u001b[0m \u001b[0;34m**\u001b[0m\u001b[0mkwargs\u001b[0m\u001b[0;34m)\u001b[0m\u001b[0;34m\u001b[0m\u001b[0;34m\u001b[0m\u001b[0m\n\u001b[0m\u001b[1;32m   1466\u001b[0m \u001b[0;34m\u001b[0m\u001b[0m\n\u001b[1;32m   1467\u001b[0m         \u001b[0mbound\u001b[0m \u001b[0;34m=\u001b[0m \u001b[0mnew_sig\u001b[0m\u001b[0;34m.\u001b[0m\u001b[0mbind\u001b[0m\u001b[0;34m(\u001b[0m\u001b[0max\u001b[0m\u001b[0;34m,\u001b[0m \u001b[0;34m*\u001b[0m\u001b[0margs\u001b[0m\u001b[0;34m,\u001b[0m \u001b[0;34m**\u001b[0m\u001b[0mkwargs\u001b[0m\u001b[0;34m)\u001b[0m\u001b[0;34m\u001b[0m\u001b[0;34m\u001b[0m\u001b[0m\n",
            "\u001b[0;32m/usr/local/lib/python3.10/dist-packages/matplotlib/axes/_axes.py\u001b[0m in \u001b[0;36mbar\u001b[0;34m(self, x, height, width, bottom, align, **kwargs)\u001b[0m\n\u001b[1;32m   2518\u001b[0m                    hatch, patch_labels)\n\u001b[1;32m   2519\u001b[0m         \u001b[0;32mfor\u001b[0m \u001b[0ml\u001b[0m\u001b[0;34m,\u001b[0m \u001b[0mb\u001b[0m\u001b[0;34m,\u001b[0m \u001b[0mw\u001b[0m\u001b[0;34m,\u001b[0m \u001b[0mh\u001b[0m\u001b[0;34m,\u001b[0m \u001b[0mc\u001b[0m\u001b[0;34m,\u001b[0m \u001b[0me\u001b[0m\u001b[0;34m,\u001b[0m \u001b[0mlw\u001b[0m\u001b[0;34m,\u001b[0m \u001b[0mhtch\u001b[0m\u001b[0;34m,\u001b[0m \u001b[0mlbl\u001b[0m \u001b[0;32min\u001b[0m \u001b[0margs\u001b[0m\u001b[0;34m:\u001b[0m\u001b[0;34m\u001b[0m\u001b[0;34m\u001b[0m\u001b[0m\n\u001b[0;32m-> 2520\u001b[0;31m             r = mpatches.Rectangle(\n\u001b[0m\u001b[1;32m   2521\u001b[0m                 \u001b[0mxy\u001b[0m\u001b[0;34m=\u001b[0m\u001b[0;34m(\u001b[0m\u001b[0ml\u001b[0m\u001b[0;34m,\u001b[0m \u001b[0mb\u001b[0m\u001b[0;34m)\u001b[0m\u001b[0;34m,\u001b[0m \u001b[0mwidth\u001b[0m\u001b[0;34m=\u001b[0m\u001b[0mw\u001b[0m\u001b[0;34m,\u001b[0m \u001b[0mheight\u001b[0m\u001b[0;34m=\u001b[0m\u001b[0mh\u001b[0m\u001b[0;34m,\u001b[0m\u001b[0;34m\u001b[0m\u001b[0;34m\u001b[0m\u001b[0m\n\u001b[1;32m   2522\u001b[0m                 \u001b[0mfacecolor\u001b[0m\u001b[0;34m=\u001b[0m\u001b[0mc\u001b[0m\u001b[0;34m,\u001b[0m\u001b[0;34m\u001b[0m\u001b[0;34m\u001b[0m\u001b[0m\n",
            "\u001b[0;32m/usr/local/lib/python3.10/dist-packages/matplotlib/patches.py\u001b[0m in \u001b[0;36m__init__\u001b[0;34m(self, xy, width, height, angle, rotation_point, **kwargs)\u001b[0m\n\u001b[1;32m    730\u001b[0m         \u001b[0;31m# Axes._get_aspect_ratio()\u001b[0m\u001b[0;34m\u001b[0m\u001b[0;34m\u001b[0m\u001b[0m\n\u001b[1;32m    731\u001b[0m         \u001b[0mself\u001b[0m\u001b[0;34m.\u001b[0m\u001b[0m_aspect_ratio_correction\u001b[0m \u001b[0;34m=\u001b[0m \u001b[0;36m1.0\u001b[0m\u001b[0;34m\u001b[0m\u001b[0;34m\u001b[0m\u001b[0m\n\u001b[0;32m--> 732\u001b[0;31m         \u001b[0mself\u001b[0m\u001b[0;34m.\u001b[0m\u001b[0m_convert_units\u001b[0m\u001b[0;34m(\u001b[0m\u001b[0;34m)\u001b[0m  \u001b[0;31m# Validate the inputs.\u001b[0m\u001b[0;34m\u001b[0m\u001b[0;34m\u001b[0m\u001b[0m\n\u001b[0m\u001b[1;32m    733\u001b[0m \u001b[0;34m\u001b[0m\u001b[0m\n\u001b[1;32m    734\u001b[0m     \u001b[0;32mdef\u001b[0m \u001b[0mget_path\u001b[0m\u001b[0;34m(\u001b[0m\u001b[0mself\u001b[0m\u001b[0;34m)\u001b[0m\u001b[0;34m:\u001b[0m\u001b[0;34m\u001b[0m\u001b[0;34m\u001b[0m\u001b[0m\n",
            "\u001b[0;32m/usr/local/lib/python3.10/dist-packages/matplotlib/patches.py\u001b[0m in \u001b[0;36m_convert_units\u001b[0;34m(self)\u001b[0m\n\u001b[1;32m    741\u001b[0m         \u001b[0my0\u001b[0m \u001b[0;34m=\u001b[0m \u001b[0mself\u001b[0m\u001b[0;34m.\u001b[0m\u001b[0mconvert_yunits\u001b[0m\u001b[0;34m(\u001b[0m\u001b[0mself\u001b[0m\u001b[0;34m.\u001b[0m\u001b[0m_y0\u001b[0m\u001b[0;34m)\u001b[0m\u001b[0;34m\u001b[0m\u001b[0;34m\u001b[0m\u001b[0m\n\u001b[1;32m    742\u001b[0m         \u001b[0mx1\u001b[0m \u001b[0;34m=\u001b[0m \u001b[0mself\u001b[0m\u001b[0;34m.\u001b[0m\u001b[0mconvert_xunits\u001b[0m\u001b[0;34m(\u001b[0m\u001b[0mself\u001b[0m\u001b[0;34m.\u001b[0m\u001b[0m_x0\u001b[0m \u001b[0;34m+\u001b[0m \u001b[0mself\u001b[0m\u001b[0;34m.\u001b[0m\u001b[0m_width\u001b[0m\u001b[0;34m)\u001b[0m\u001b[0;34m\u001b[0m\u001b[0;34m\u001b[0m\u001b[0m\n\u001b[0;32m--> 743\u001b[0;31m         \u001b[0my1\u001b[0m \u001b[0;34m=\u001b[0m \u001b[0mself\u001b[0m\u001b[0;34m.\u001b[0m\u001b[0mconvert_yunits\u001b[0m\u001b[0;34m(\u001b[0m\u001b[0mself\u001b[0m\u001b[0;34m.\u001b[0m\u001b[0m_y0\u001b[0m \u001b[0;34m+\u001b[0m \u001b[0mself\u001b[0m\u001b[0;34m.\u001b[0m\u001b[0m_height\u001b[0m\u001b[0;34m)\u001b[0m\u001b[0;34m\u001b[0m\u001b[0;34m\u001b[0m\u001b[0m\n\u001b[0m\u001b[1;32m    744\u001b[0m         \u001b[0;32mreturn\u001b[0m \u001b[0mx0\u001b[0m\u001b[0;34m,\u001b[0m \u001b[0my0\u001b[0m\u001b[0;34m,\u001b[0m \u001b[0mx1\u001b[0m\u001b[0;34m,\u001b[0m \u001b[0my1\u001b[0m\u001b[0;34m\u001b[0m\u001b[0;34m\u001b[0m\u001b[0m\n\u001b[1;32m    745\u001b[0m \u001b[0;34m\u001b[0m\u001b[0m\n",
            "\u001b[0;31mTypeError\u001b[0m: unsupported operand type(s) for +: 'int' and 'NoneType'"
          ]
        },
        {
          "output_type": "display_data",
          "data": {
            "text/plain": [
              "<Figure size 1000x600 with 1 Axes>"
            ],
            "image/png": "[encoded data removed]"
          },
          "metadata": {}
        }
      ]
    }
  ]
}